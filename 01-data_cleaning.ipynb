{
 "cells": [
  {
   "cell_type": "code",
   "execution_count": 1,
   "id": "3a7ca07a-9dd2-45e7-981d-ecd368b62750",
   "metadata": {},
   "outputs": [],
   "source": [
    "Data_Path = r'D:\\AI\\Stack Overflow Developer Survey 2024\\data\\raw\\survey_results_public.csv'\n",
    "Export_Path = r'D:\\AI\\Stack Overflow Developer Survey 2024\\data\\processed\\1_preprocessed_df.pkl'"
   ]
  },
  {
   "cell_type": "code",
   "execution_count": 48,
   "id": "a2b0208a-d0c0-48c1-832c-e04a09ed293d",
   "metadata": {},
   "outputs": [],
   "source": [
    "import pandas as pd\n",
    "import numpy as np\n",
    "import seaborn as sns\n",
    "import matplotlib.pyplot as plt\n",
    "pd.set_option('display.max_rows', None)\n",
    "pd.set_option('display.max_columns', None)"
   ]
  },
  {
   "cell_type": "code",
   "execution_count": 3,
   "id": "960bd88d-fb30-467d-9e68-bdc84ee790a2",
   "metadata": {},
   "outputs": [],
   "source": [
    "raw_df = pd.read_csv(Data_Path)\n",
    "df = raw_df.copy()"
   ]
  },
  {
   "cell_type": "code",
   "execution_count": 6,
   "id": "3ddc29bf-76e5-4e79-b871-f1fd4c77dbc4",
   "metadata": {},
   "outputs": [
    {
     "data": {
      "text/plain": [
       "['ResponseId',\n",
       " 'MainBranch',\n",
       " 'Age',\n",
       " 'Employment',\n",
       " 'RemoteWork',\n",
       " 'Check',\n",
       " 'CodingActivities',\n",
       " 'EdLevel',\n",
       " 'LearnCode',\n",
       " 'LearnCodeOnline',\n",
       " 'TechDoc',\n",
       " 'YearsCode',\n",
       " 'YearsCodePro',\n",
       " 'DevType',\n",
       " 'OrgSize',\n",
       " 'PurchaseInfluence',\n",
       " 'BuyNewTool',\n",
       " 'BuildvsBuy',\n",
       " 'TechEndorse',\n",
       " 'Country',\n",
       " 'Currency',\n",
       " 'CompTotal',\n",
       " 'LanguageHaveWorkedWith',\n",
       " 'LanguageWantToWorkWith',\n",
       " 'LanguageAdmired',\n",
       " 'DatabaseHaveWorkedWith',\n",
       " 'DatabaseWantToWorkWith',\n",
       " 'DatabaseAdmired',\n",
       " 'PlatformHaveWorkedWith',\n",
       " 'PlatformWantToWorkWith',\n",
       " 'PlatformAdmired',\n",
       " 'WebframeHaveWorkedWith',\n",
       " 'WebframeWantToWorkWith',\n",
       " 'WebframeAdmired',\n",
       " 'EmbeddedHaveWorkedWith',\n",
       " 'EmbeddedWantToWorkWith',\n",
       " 'EmbeddedAdmired',\n",
       " 'MiscTechHaveWorkedWith',\n",
       " 'MiscTechWantToWorkWith',\n",
       " 'MiscTechAdmired',\n",
       " 'ToolsTechHaveWorkedWith',\n",
       " 'ToolsTechWantToWorkWith',\n",
       " 'ToolsTechAdmired',\n",
       " 'NEWCollabToolsHaveWorkedWith',\n",
       " 'NEWCollabToolsWantToWorkWith',\n",
       " 'NEWCollabToolsAdmired',\n",
       " 'OpSysPersonal use',\n",
       " 'OpSysProfessional use',\n",
       " 'OfficeStackAsyncHaveWorkedWith',\n",
       " 'OfficeStackAsyncWantToWorkWith',\n",
       " 'OfficeStackAsyncAdmired',\n",
       " 'OfficeStackSyncHaveWorkedWith',\n",
       " 'OfficeStackSyncWantToWorkWith',\n",
       " 'OfficeStackSyncAdmired',\n",
       " 'AISearchDevHaveWorkedWith',\n",
       " 'AISearchDevWantToWorkWith',\n",
       " 'AISearchDevAdmired',\n",
       " 'NEWSOSites',\n",
       " 'SOVisitFreq',\n",
       " 'SOAccount',\n",
       " 'SOPartFreq',\n",
       " 'SOHow',\n",
       " 'SOComm',\n",
       " 'AISelect',\n",
       " 'AISent',\n",
       " 'AIBen',\n",
       " 'AIAcc',\n",
       " 'AIComplex',\n",
       " 'AIToolCurrently Using',\n",
       " 'AIToolInterested in Using',\n",
       " 'AIToolNot interested in Using',\n",
       " 'AINextMuch more integrated',\n",
       " 'AINextNo change',\n",
       " 'AINextMore integrated',\n",
       " 'AINextLess integrated',\n",
       " 'AINextMuch less integrated',\n",
       " 'AIThreat',\n",
       " 'AIEthics',\n",
       " 'AIChallenges',\n",
       " 'TBranch',\n",
       " 'ICorPM',\n",
       " 'WorkExp',\n",
       " 'Knowledge_1',\n",
       " 'Knowledge_2',\n",
       " 'Knowledge_3',\n",
       " 'Knowledge_4',\n",
       " 'Knowledge_5',\n",
       " 'Knowledge_6',\n",
       " 'Knowledge_7',\n",
       " 'Knowledge_8',\n",
       " 'Knowledge_9',\n",
       " 'Frequency_1',\n",
       " 'Frequency_2',\n",
       " 'Frequency_3',\n",
       " 'TimeSearching',\n",
       " 'TimeAnswering',\n",
       " 'Frustration',\n",
       " 'ProfessionalTech',\n",
       " 'ProfessionalCloud',\n",
       " 'ProfessionalQuestion',\n",
       " 'Industry',\n",
       " 'JobSatPoints_1',\n",
       " 'JobSatPoints_4',\n",
       " 'JobSatPoints_5',\n",
       " 'JobSatPoints_6',\n",
       " 'JobSatPoints_7',\n",
       " 'JobSatPoints_8',\n",
       " 'JobSatPoints_9',\n",
       " 'JobSatPoints_10',\n",
       " 'JobSatPoints_11',\n",
       " 'SurveyLength',\n",
       " 'SurveyEase',\n",
       " 'ConvertedCompYearly',\n",
       " 'JobSat']"
      ]
     },
     "execution_count": 6,
     "metadata": {},
     "output_type": "execute_result"
    }
   ],
   "source": [
    "df.columns.tolist()"
   ]
  },
  {
   "cell_type": "markdown",
   "id": "63cf3577",
   "metadata": {},
   "source": []
  },
  {
   "cell_type": "markdown",
   "id": "e1b9fb61",
   "metadata": {},
   "source": [
    "# Drop unnecessary columns"
   ]
  },
  {
   "cell_type": "code",
   "execution_count": 8,
   "id": "2264d748-504d-41fc-b2b7-c417eb1133a0",
   "metadata": {},
   "outputs": [],
   "source": [
    "remained_cols = ['YearsCodePro',\n",
    " 'DevType','Country','LanguageHaveWorkedWith','DatabaseHaveWorkedWith','PlatformHaveWorkedWith',\n",
    " 'WebframeHaveWorkedWith','EmbeddedHaveWorkedWith','MiscTechHaveWorkedWith','ToolsTechHaveWorkedWith',\n",
    " 'NEWCollabToolsHaveWorkedWith','OpSysPersonal use','OpSysProfessional use','OfficeStackAsyncHaveWorkedWith',\n",
    " 'OfficeStackSyncHaveWorkedWith','AISearchDevHaveWorkedWith','WorkExp']\n",
    "df = df[remained_cols]"
   ]
  },
  {
   "cell_type": "code",
   "execution_count": 9,
   "id": "39c93639-3090-4531-868c-1cb3a61ad2cd",
   "metadata": {},
   "outputs": [
    {
     "data": {
      "text/html": [
       "<div>\n",
       "<style scoped>\n",
       "    .dataframe tbody tr th:only-of-type {\n",
       "        vertical-align: middle;\n",
       "    }\n",
       "\n",
       "    .dataframe tbody tr th {\n",
       "        vertical-align: top;\n",
       "    }\n",
       "\n",
       "    .dataframe thead th {\n",
       "        text-align: right;\n",
       "    }\n",
       "</style>\n",
       "<table border=\"1\" class=\"dataframe\">\n",
       "  <thead>\n",
       "    <tr style=\"text-align: right;\">\n",
       "      <th></th>\n",
       "      <th>YearsCodePro</th>\n",
       "      <th>DevType</th>\n",
       "      <th>Country</th>\n",
       "      <th>LanguageHaveWorkedWith</th>\n",
       "      <th>DatabaseHaveWorkedWith</th>\n",
       "      <th>PlatformHaveWorkedWith</th>\n",
       "      <th>WebframeHaveWorkedWith</th>\n",
       "      <th>EmbeddedHaveWorkedWith</th>\n",
       "      <th>MiscTechHaveWorkedWith</th>\n",
       "      <th>ToolsTechHaveWorkedWith</th>\n",
       "      <th>NEWCollabToolsHaveWorkedWith</th>\n",
       "      <th>OpSysPersonal use</th>\n",
       "      <th>OpSysProfessional use</th>\n",
       "      <th>OfficeStackAsyncHaveWorkedWith</th>\n",
       "      <th>OfficeStackSyncHaveWorkedWith</th>\n",
       "      <th>AISearchDevHaveWorkedWith</th>\n",
       "      <th>WorkExp</th>\n",
       "    </tr>\n",
       "  </thead>\n",
       "  <tbody>\n",
       "    <tr>\n",
       "      <th>0</th>\n",
       "      <td>NaN</td>\n",
       "      <td>NaN</td>\n",
       "      <td>United States of America</td>\n",
       "      <td>NaN</td>\n",
       "      <td>NaN</td>\n",
       "      <td>NaN</td>\n",
       "      <td>NaN</td>\n",
       "      <td>NaN</td>\n",
       "      <td>NaN</td>\n",
       "      <td>NaN</td>\n",
       "      <td>NaN</td>\n",
       "      <td>NaN</td>\n",
       "      <td>NaN</td>\n",
       "      <td>NaN</td>\n",
       "      <td>NaN</td>\n",
       "      <td>NaN</td>\n",
       "      <td>NaN</td>\n",
       "    </tr>\n",
       "    <tr>\n",
       "      <th>1</th>\n",
       "      <td>17</td>\n",
       "      <td>Developer, full-stack</td>\n",
       "      <td>United Kingdom of Great Britain and Northern I...</td>\n",
       "      <td>Bash/Shell (all shells);Go;HTML/CSS;Java;JavaS...</td>\n",
       "      <td>Dynamodb;MongoDB;PostgreSQL</td>\n",
       "      <td>Amazon Web Services (AWS);Heroku;Netlify</td>\n",
       "      <td>Express;Next.js;Node.js;React</td>\n",
       "      <td>NaN</td>\n",
       "      <td>NaN</td>\n",
       "      <td>Docker;Homebrew;Kubernetes;npm;Vite;Webpack</td>\n",
       "      <td>PyCharm;Visual Studio Code;WebStorm</td>\n",
       "      <td>MacOS;Windows</td>\n",
       "      <td>MacOS</td>\n",
       "      <td>NaN</td>\n",
       "      <td>Microsoft Teams;Slack</td>\n",
       "      <td>NaN</td>\n",
       "      <td>17.0</td>\n",
       "    </tr>\n",
       "    <tr>\n",
       "      <th>2</th>\n",
       "      <td>27</td>\n",
       "      <td>Developer Experience</td>\n",
       "      <td>United Kingdom of Great Britain and Northern I...</td>\n",
       "      <td>C#</td>\n",
       "      <td>Firebase Realtime Database</td>\n",
       "      <td>Google Cloud</td>\n",
       "      <td>ASP.NET CORE</td>\n",
       "      <td>Rasberry Pi</td>\n",
       "      <td>.NET (5+) ;.NET Framework (1.0 - 4.8);.NET MAUI</td>\n",
       "      <td>MSBuild</td>\n",
       "      <td>Visual Studio</td>\n",
       "      <td>Windows</td>\n",
       "      <td>Windows</td>\n",
       "      <td>NaN</td>\n",
       "      <td>Google Chat;Google Meet;Microsoft Teams;Zoom</td>\n",
       "      <td>NaN</td>\n",
       "      <td>NaN</td>\n",
       "    </tr>\n",
       "    <tr>\n",
       "      <th>3</th>\n",
       "      <td>NaN</td>\n",
       "      <td>Developer, full-stack</td>\n",
       "      <td>Canada</td>\n",
       "      <td>C;C++;HTML/CSS;Java;JavaScript;PHP;PowerShell;...</td>\n",
       "      <td>MongoDB;MySQL;PostgreSQL;SQLite</td>\n",
       "      <td>Amazon Web Services (AWS);Fly.io;Heroku</td>\n",
       "      <td>jQuery;Next.js;Node.js;React;WordPress</td>\n",
       "      <td>Rasberry Pi</td>\n",
       "      <td>NumPy;Pandas;Ruff;TensorFlow</td>\n",
       "      <td>Docker;npm;Pip</td>\n",
       "      <td>NaN</td>\n",
       "      <td>NaN</td>\n",
       "      <td>NaN</td>\n",
       "      <td>NaN</td>\n",
       "      <td>NaN</td>\n",
       "      <td>NaN</td>\n",
       "      <td>NaN</td>\n",
       "    </tr>\n",
       "    <tr>\n",
       "      <th>4</th>\n",
       "      <td>NaN</td>\n",
       "      <td>Developer, full-stack</td>\n",
       "      <td>Norway</td>\n",
       "      <td>C++;HTML/CSS;JavaScript;Lua;Python;Rust</td>\n",
       "      <td>PostgreSQL;SQLite</td>\n",
       "      <td>NaN</td>\n",
       "      <td>NaN</td>\n",
       "      <td>CMake;Cargo;Rasberry Pi</td>\n",
       "      <td>NaN</td>\n",
       "      <td>APT;Make;npm</td>\n",
       "      <td>Vim</td>\n",
       "      <td>Other (please specify):</td>\n",
       "      <td>NaN</td>\n",
       "      <td>GitHub Discussions;Markdown File;Obsidian;Stac...</td>\n",
       "      <td>Discord;Whatsapp</td>\n",
       "      <td>NaN</td>\n",
       "      <td>NaN</td>\n",
       "    </tr>\n",
       "  </tbody>\n",
       "</table>\n",
       "</div>"
      ],
      "text/plain": [
       "  YearsCodePro                DevType  \\\n",
       "0          NaN                    NaN   \n",
       "1           17  Developer, full-stack   \n",
       "2           27   Developer Experience   \n",
       "3          NaN  Developer, full-stack   \n",
       "4          NaN  Developer, full-stack   \n",
       "\n",
       "                                             Country  \\\n",
       "0                           United States of America   \n",
       "1  United Kingdom of Great Britain and Northern I...   \n",
       "2  United Kingdom of Great Britain and Northern I...   \n",
       "3                                             Canada   \n",
       "4                                             Norway   \n",
       "\n",
       "                              LanguageHaveWorkedWith  \\\n",
       "0                                                NaN   \n",
       "1  Bash/Shell (all shells);Go;HTML/CSS;Java;JavaS...   \n",
       "2                                                 C#   \n",
       "3  C;C++;HTML/CSS;Java;JavaScript;PHP;PowerShell;...   \n",
       "4            C++;HTML/CSS;JavaScript;Lua;Python;Rust   \n",
       "\n",
       "            DatabaseHaveWorkedWith                    PlatformHaveWorkedWith  \\\n",
       "0                              NaN                                       NaN   \n",
       "1      Dynamodb;MongoDB;PostgreSQL  Amazon Web Services (AWS);Heroku;Netlify   \n",
       "2       Firebase Realtime Database                              Google Cloud   \n",
       "3  MongoDB;MySQL;PostgreSQL;SQLite   Amazon Web Services (AWS);Fly.io;Heroku   \n",
       "4                PostgreSQL;SQLite                                       NaN   \n",
       "\n",
       "                   WebframeHaveWorkedWith   EmbeddedHaveWorkedWith  \\\n",
       "0                                     NaN                      NaN   \n",
       "1           Express;Next.js;Node.js;React                      NaN   \n",
       "2                            ASP.NET CORE              Rasberry Pi   \n",
       "3  jQuery;Next.js;Node.js;React;WordPress              Rasberry Pi   \n",
       "4                                     NaN  CMake;Cargo;Rasberry Pi   \n",
       "\n",
       "                            MiscTechHaveWorkedWith  \\\n",
       "0                                              NaN   \n",
       "1                                              NaN   \n",
       "2  .NET (5+) ;.NET Framework (1.0 - 4.8);.NET MAUI   \n",
       "3                     NumPy;Pandas;Ruff;TensorFlow   \n",
       "4                                              NaN   \n",
       "\n",
       "                       ToolsTechHaveWorkedWith  \\\n",
       "0                                          NaN   \n",
       "1  Docker;Homebrew;Kubernetes;npm;Vite;Webpack   \n",
       "2                                      MSBuild   \n",
       "3                               Docker;npm;Pip   \n",
       "4                                 APT;Make;npm   \n",
       "\n",
       "          NEWCollabToolsHaveWorkedWith        OpSysPersonal use  \\\n",
       "0                                  NaN                      NaN   \n",
       "1  PyCharm;Visual Studio Code;WebStorm            MacOS;Windows   \n",
       "2                        Visual Studio                  Windows   \n",
       "3                                  NaN                      NaN   \n",
       "4                                  Vim  Other (please specify):   \n",
       "\n",
       "  OpSysProfessional use                     OfficeStackAsyncHaveWorkedWith  \\\n",
       "0                   NaN                                                NaN   \n",
       "1                 MacOS                                                NaN   \n",
       "2               Windows                                                NaN   \n",
       "3                   NaN                                                NaN   \n",
       "4                   NaN  GitHub Discussions;Markdown File;Obsidian;Stac...   \n",
       "\n",
       "                  OfficeStackSyncHaveWorkedWith AISearchDevHaveWorkedWith  \\\n",
       "0                                           NaN                       NaN   \n",
       "1                         Microsoft Teams;Slack                       NaN   \n",
       "2  Google Chat;Google Meet;Microsoft Teams;Zoom                       NaN   \n",
       "3                                           NaN                       NaN   \n",
       "4                              Discord;Whatsapp                       NaN   \n",
       "\n",
       "   WorkExp  \n",
       "0      NaN  \n",
       "1     17.0  \n",
       "2      NaN  \n",
       "3      NaN  \n",
       "4      NaN  "
      ]
     },
     "execution_count": 9,
     "metadata": {},
     "output_type": "execute_result"
    }
   ],
   "source": [
    "df.head()"
   ]
  },
  {
   "cell_type": "code",
   "execution_count": 10,
   "id": "122ba5b2-45f8-4b2e-977e-7db6fa7bc8f6",
   "metadata": {},
   "outputs": [
    {
     "data": {
      "text/plain": [
       "(65437, 17)"
      ]
     },
     "execution_count": 10,
     "metadata": {},
     "output_type": "execute_result"
    }
   ],
   "source": [
    "df.shape"
   ]
  },
  {
   "cell_type": "markdown",
   "id": "c48273d6-22dc-41a7-b704-7200a7024dd6",
   "metadata": {},
   "source": [
    "# Duplicates"
   ]
  },
  {
   "cell_type": "code",
   "execution_count": 20,
   "id": "463c931c",
   "metadata": {},
   "outputs": [
    {
     "data": {
      "text/plain": [
       "4257"
      ]
     },
     "execution_count": 20,
     "metadata": {},
     "output_type": "execute_result"
    }
   ],
   "source": [
    "df.duplicated().sum()"
   ]
  },
  {
   "cell_type": "code",
   "execution_count": 24,
   "id": "81e51c68",
   "metadata": {},
   "outputs": [],
   "source": [
    "df.drop_duplicates(inplace=True)"
   ]
  },
  {
   "cell_type": "code",
   "execution_count": 25,
   "id": "7b32c99e",
   "metadata": {},
   "outputs": [
    {
     "data": {
      "text/plain": [
       "(61180, 17)"
      ]
     },
     "execution_count": 25,
     "metadata": {},
     "output_type": "execute_result"
    }
   ],
   "source": [
    "df.shape"
   ]
  },
  {
   "cell_type": "markdown",
   "id": "91a1e985",
   "metadata": {},
   "source": [
    "# Null values"
   ]
  },
  {
   "cell_type": "code",
   "execution_count": 27,
   "id": "8df28ec7",
   "metadata": {},
   "outputs": [
    {
     "data": {
      "text/plain": [
       "YearsCodePro                      10250\n",
       "DevType                            2412\n",
       "Country                            2372\n",
       "LanguageHaveWorkedWith             1492\n",
       "DatabaseHaveWorkedWith            10931\n",
       "PlatformHaveWorkedWith            18815\n",
       "WebframeHaveWorkedWith            16019\n",
       "EmbeddedHaveWorkedWith            38967\n",
       "MiscTechHaveWorkedWith            21737\n",
       "ToolsTechHaveWorkedWith            8698\n",
       "NEWCollabToolsHaveWorkedWith       3588\n",
       "OpSysPersonal use                  3008\n",
       "OpSysProfessional use              8209\n",
       "OfficeStackAsyncHaveWorkedWith    13087\n",
       "OfficeStackSyncHaveWorkedWith      5635\n",
       "AISearchDevHaveWorkedWith         16727\n",
       "WorkExp                           31522\n",
       "dtype: int64"
      ]
     },
     "execution_count": 27,
     "metadata": {},
     "output_type": "execute_result"
    }
   ],
   "source": [
    "df.isnull().sum()"
   ]
  },
  {
   "cell_type": "code",
   "execution_count": 45,
   "id": "ac3aba33",
   "metadata": {},
   "outputs": [
    {
     "data": {
      "text/plain": [
       "1"
      ]
     },
     "execution_count": 45,
     "metadata": {},
     "output_type": "execute_result"
    }
   ],
   "source": [
    "# check number of rows with all columns contain null values\n",
    "df[df.isnull().sum(axis=1) == 17].shape[0]"
   ]
  },
  {
   "cell_type": "code",
   "execution_count": null,
   "id": "340ec6b9",
   "metadata": {},
   "outputs": [],
   "source": [
    "df.drop(index = df[df.isnull().sum(axis=1) > 16].shape[0], inplace=True)"
   ]
  },
  {
   "cell_type": "code",
   "execution_count": 51,
   "metadata": {},
   "outputs": [
    {
     "data": {
      "image/png": "[encoded data removed]",
      "text/plain": [
       "<Figure size 1000x600 with 2 Axes>"
      ]
     },
     "metadata": {},
     "output_type": "display_data"
    }
   ],
   "source": [
    "plt.figure(figsize=(10,6))\n",
    "sns.heatmap(df.isnull(), cmap='viridis')\n",
    "plt.show()"
   ]
  },
  {
   "cell_type": "code",
   "execution_count": null,
   "id": "5252297b",
   "metadata": {},
   "outputs": [],
   "source": []
  },
  {
   "cell_type": "code",
   "execution_count": null,
   "id": "0daf512e",
   "metadata": {},
   "outputs": [],
   "source": []
  },
  {
   "cell_type": "code",
   "execution_count": 22,
   "id": "50230df2",
   "metadata": {},
   "outputs": [
    {
     "data": {
      "text/plain": [
       "array([nan, 'Developer, full-stack', 'Developer Experience', 'Student',\n",
       "       'Academic researcher', 'Project manager', 'Developer Advocate',\n",
       "       'Developer, back-end', 'Other (please specify):',\n",
       "       'Developer, front-end', 'Database administrator',\n",
       "       'Developer, desktop or enterprise applications',\n",
       "       'Cloud infrastructure engineer',\n",
       "       'Data scientist or machine learning specialist',\n",
       "       'Research & Development role',\n",
       "       'Developer, embedded applications or devices',\n",
       "       'System administrator', 'DevOps specialist', 'Engineering manager',\n",
       "       'Designer', 'Security professional',\n",
       "       'Senior Executive (C-Suite, VP, etc.)', 'Developer, mobile',\n",
       "       'Developer, game or graphics', 'Data or business analyst',\n",
       "       'Educator', 'Developer, QA or test', 'Product manager',\n",
       "       'Developer, AI', 'Scientist', 'Engineer, site reliability',\n",
       "       'Blockchain', 'Marketing or sales professional',\n",
       "       'Hardware Engineer', 'Data engineer'], dtype=object)"
      ]
     },
     "execution_count": 22,
     "metadata": {},
     "output_type": "execute_result"
    }
   ],
   "source": [
    "df['DevType'].unique()"
   ]
  },
  {
   "cell_type": "code",
   "execution_count": 23,
   "id": "46f41932",
   "metadata": {},
   "outputs": [
    {
     "data": {
      "text/plain": [
       "array(['United States of America',\n",
       "       'United Kingdom of Great Britain and Northern Ireland', 'Canada',\n",
       "       'Norway', 'Uzbekistan', 'Serbia', 'Poland', 'Philippines',\n",
       "       'Bulgaria', 'Switzerland', 'India', 'Germany', 'Ireland', 'Italy',\n",
       "       'Ukraine', 'Australia', 'Brazil', 'Japan', 'Austria',\n",
       "       'Iran, Islamic Republic of...', 'France', 'Saudi Arabia',\n",
       "       'Romania', 'Turkey', 'Nepal', 'Algeria', 'Sweden', 'Netherlands',\n",
       "       'Croatia', 'Pakistan', 'Czech Republic',\n",
       "       'Republic of North Macedonia', 'Finland', 'Slovakia',\n",
       "       'Russian Federation', 'Greece', 'Israel', 'Belgium', 'Mexico',\n",
       "       'United Republic of Tanzania', 'Hungary', 'Argentina', 'Portugal',\n",
       "       'Sri Lanka', 'Latvia', 'China', 'Singapore', 'Lebanon', 'Spain',\n",
       "       'South Africa', 'Lithuania', 'Viet Nam', 'Dominican Republic',\n",
       "       'Indonesia', 'Kosovo', 'Morocco', 'Taiwan', 'Georgia',\n",
       "       'San Marino', 'Tunisia', 'Bangladesh', 'Nigeria', 'Liechtenstein',\n",
       "       'Denmark', 'Ecuador', 'Malaysia', 'Albania', 'Azerbaijan', 'Chile',\n",
       "       'Ghana', 'Peru', 'Bolivia', 'Egypt', 'Luxembourg', 'Montenegro',\n",
       "       'Cyprus', 'Paraguay', 'Kazakhstan', 'Slovenia', 'Jordan',\n",
       "       'Venezuela, Bolivarian Republic of...', 'Costa Rica', 'Jamaica',\n",
       "       'Thailand', 'Nicaragua', 'Myanmar', 'Republic of Korea', 'Rwanda',\n",
       "       'Bosnia and Herzegovina', 'Benin', 'El Salvador', 'Zimbabwe',\n",
       "       'Afghanistan', 'Estonia', 'Malta', 'Uruguay', 'Belarus',\n",
       "       'Colombia', 'Republic of Moldova', 'Isle of Man', 'Nomadic',\n",
       "       'New Zealand', 'Palestine', 'Armenia', 'United Arab Emirates',\n",
       "       'Maldives', 'Ethiopia', 'Fiji', 'Guatemala', 'Uganda',\n",
       "       'Turkmenistan', 'Mauritius', 'Kenya', 'Cuba', 'Gabon', 'Bahamas',\n",
       "       'South Korea', 'Iceland', 'Honduras', 'Hong Kong (S.A.R.)',\n",
       "       \"Lao People's Democratic Republic\", 'Mongolia', 'Cambodia',\n",
       "       'Madagascar', 'Angola', 'Democratic Republic of the Congo',\n",
       "       'Syrian Arab Republic', 'Iraq', 'Namibia', 'Senegal', 'Kyrgyzstan',\n",
       "       'Zambia', 'Swaziland', \"Côte d'Ivoire\", 'Kuwait', 'Tajikistan',\n",
       "       'Burundi', 'Trinidad and Tobago', 'Mauritania', 'Sierra Leone',\n",
       "       'Panama', 'Somalia', 'North Korea', 'Dominica', 'Guyana', 'Togo',\n",
       "       'Oman', 'Barbados', 'Andorra',\n",
       "       \"Democratic People's Republic of Korea\", 'Qatar', 'Sudan',\n",
       "       'Cameroon', 'Papua New Guinea', 'Bahrain', 'Yemen', 'Malawi',\n",
       "       'Burkina Faso', 'Congo, Republic of the...', 'Botswana',\n",
       "       'Guinea-Bissau', 'Mozambique', 'Central African Republic',\n",
       "       'Equatorial Guinea', 'Suriname', 'Belize',\n",
       "       'Libyan Arab Jamahiriya', 'Cape Verde', 'Brunei Darussalam',\n",
       "       'Bhutan', 'Guinea', 'Niger', 'Antigua and Barbuda', 'Mali',\n",
       "       'Samoa', 'Lesotho', 'Saint Kitts and Nevis', 'Monaco',\n",
       "       'Micronesia, Federated States of...', 'Haiti', nan, 'Nauru',\n",
       "       'Liberia', 'Chad', 'Djibouti', 'Solomon Islands'], dtype=object)"
      ]
     },
     "execution_count": 23,
     "metadata": {},
     "output_type": "execute_result"
    }
   ],
   "source": [
    "df['Country'].unique()"
   ]
  },
  {
   "cell_type": "code",
   "execution_count": 38,
   "id": "0113056b",
   "metadata": {},
   "outputs": [
    {
     "data": {
      "text/plain": [
       "Country\n",
       "Iran, Islamic Republic of...             411\n",
       "Hong Kong (S.A.R.)                       146\n",
       "Venezuela, Bolivarian Republic of...      69\n",
       "Côte d'Ivoire                             14\n",
       "Congo, Republic of the...                  8\n",
       "Lao People's Democratic Republic           4\n",
       "Democratic People's Republic of Korea      2\n",
       "Guinea-Bissau                              2\n",
       "Micronesia, Federated States of...         1\n",
       "Name: count, dtype: int64"
      ]
     },
     "execution_count": 38,
     "metadata": {},
     "output_type": "execute_result"
    }
   ],
   "source": [
    "nonword_check = df['Country'].str.contains(r'[^A-Za-z\\s]', regex = True)   \n",
    "df[nonword_check == True]['Country'].value_counts()"
   ]
  },
  {
   "cell_type": "code",
   "execution_count": null,
   "id": "3dc2b8b1",
   "metadata": {},
   "outputs": [],
   "source": [
    "splitted_columns = []"
   ]
  },
  {
   "cell_type": "code",
   "execution_count": 19,
   "id": "0a84425d",
   "metadata": {},
   "outputs": [],
   "source": [
    "def split_columns(df, cols_names, separator = ';'):\n",
    "    split_cols = df[cols_names].str.split(separator, expand = True)\n",
    "    df = pd.concat([df, split_cols], axis = 1)\n",
    "    return df"
   ]
  },
  {
   "cell_type": "code",
   "execution_count": null,
   "id": "deb28904",
   "metadata": {},
   "outputs": [],
   "source": [
    "df = split_columns(df, )"
   ]
  }
 ],
 "metadata": {
  "kernelspec": {
   "display_name": "Python 3",
   "language": "python",
   "name": "python3"
  },
  "language_info": {
   "codemirror_mode": {
    "name": "ipython",
    "version": 3
   },
   "file_extension": ".py",
   "mimetype": "text/x-python",
   "name": "python",
   "nbconvert_exporter": "python",
   "pygments_lexer": "ipython3",
   "version": "3.12.0"
  }
 },
 "nbformat": 4,
 "nbformat_minor": 5
}
