{
 "cells": [
  {
   "cell_type": "markdown",
   "metadata": {
    "vscode": {
     "languageId": "plaintext"
    }
   },
   "source": [
    "# Questions to answer\n",
    "1. How are technologies correlated with jobs?\n",
    "2. How are jobs correlated with each other?\n",
    "3. How are technologies correlated with each other?\n",
    "4. What is the frequency of each technology?\n",
    "5. What is the frequency of each job?\n",
    "6. What is the specificity of each technology to a job?"
   ]
  },
  {
   "cell_type": "code",
   "execution_count": 26,
   "metadata": {},
   "outputs": [],
   "source": [
    "Data_Path = r'/home/youssef/Documents/Data Science/stack over flow/data/processed/2_preprocessed_df.pkl'"
   ]
  },
  {
   "cell_type": "code",
   "execution_count": 43,
   "metadata": {},
   "outputs": [],
   "source": [
    "Tecchnologies_columns = ['LanguageHaveWorkedWith',\n",
    "       'DatabaseHaveWorkedWith', 'PlatformHaveWorkedWith',\n",
    "       'WebframeHaveWorkedWith', 'EmbeddedHaveWorkedWith',\n",
    "       'MiscTechHaveWorkedWith', 'ToolsTechHaveWorkedWith',\n",
    "       'NEWCollabToolsHaveWorkedWith', 'OpSysPersonal use',\n",
    "       'OpSysProfessional use', 'OfficeStackAsyncHaveWorkedWith',\n",
    "       'OfficeStackSyncHaveWorkedWith', 'AISearchDevHaveWorkedWith']\n",
    "\n",
    "def split_and_explode(df, Tecchnologies_columns):\n",
    "       Technologies_values_dict = {}\n",
    "       for col in Tecchnologies_columns:\n",
    "              Technologies_values = df[col].astype(str).str.split(',').explode().str.strip()\n",
    "              Technologies_values = [val for val in Technologies_values if val not in ['0']]\n",
    "              Technologies_values_dict[col] = Technologies_values\n",
    "       return Technologies_values_dict"
   ]
  },
  {
   "cell_type": "code",
   "execution_count": 28,
   "metadata": {},
   "outputs": [],
   "source": [
    "import pandas as pd\n",
    "import numpy as np\n",
    "import matplotlib.pyplot as plt\n",
    "import seaborn as sns\n",
    "import plotly.express as px\n",
    "\n",
    "pd.set_option('display.max_columns', None)   \n",
    "pd.set_option('display.max_rows', None)   "
   ]
  },
  {
   "cell_type": "code",
   "execution_count": 29,
   "metadata": {},
   "outputs": [],
   "source": [
    "cleaned_df = pd.read_pickle(Data_Path)"
   ]
  },
  {
   "cell_type": "code",
   "execution_count": 30,
   "metadata": {},
   "outputs": [
    {
     "data": {
      "text/html": [
       "<div>\n",
       "<style scoped>\n",
       "    .dataframe tbody tr th:only-of-type {\n",
       "        vertical-align: middle;\n",
       "    }\n",
       "\n",
       "    .dataframe tbody tr th {\n",
       "        vertical-align: top;\n",
       "    }\n",
       "\n",
       "    .dataframe thead th {\n",
       "        text-align: right;\n",
       "    }\n",
       "</style>\n",
       "<table border=\"1\" class=\"dataframe\">\n",
       "  <thead>\n",
       "    <tr style=\"text-align: right;\">\n",
       "      <th></th>\n",
       "      <th>YearsCodePro</th>\n",
       "      <th>DevType</th>\n",
       "      <th>LanguageHaveWorkedWith</th>\n",
       "      <th>DatabaseHaveWorkedWith</th>\n",
       "      <th>PlatformHaveWorkedWith</th>\n",
       "      <th>WebframeHaveWorkedWith</th>\n",
       "      <th>EmbeddedHaveWorkedWith</th>\n",
       "      <th>MiscTechHaveWorkedWith</th>\n",
       "      <th>ToolsTechHaveWorkedWith</th>\n",
       "      <th>NEWCollabToolsHaveWorkedWith</th>\n",
       "      <th>OpSysPersonal use</th>\n",
       "      <th>OpSysProfessional use</th>\n",
       "      <th>OfficeStackAsyncHaveWorkedWith</th>\n",
       "      <th>OfficeStackSyncHaveWorkedWith</th>\n",
       "      <th>AISearchDevHaveWorkedWith</th>\n",
       "      <th>WorkExp</th>\n",
       "    </tr>\n",
       "  </thead>\n",
       "  <tbody>\n",
       "    <tr>\n",
       "      <th>2</th>\n",
       "      <td>27</td>\n",
       "      <td>developer experience</td>\n",
       "      <td>C#</td>\n",
       "      <td>Firebase Realtime Database</td>\n",
       "      <td>Google Cloud</td>\n",
       "      <td>ASP.NET CORE</td>\n",
       "      <td>Rasberry Pi</td>\n",
       "      <td>.NET (5+) ,.NET Framework (1.0 - 4.8),.NET MAUI</td>\n",
       "      <td>MSBuild</td>\n",
       "      <td>Visual Studio</td>\n",
       "      <td>Windows</td>\n",
       "      <td>Windows</td>\n",
       "      <td>0</td>\n",
       "      <td>Google Chat,Google Meet,Microsoft Teams,Zoom</td>\n",
       "      <td>0</td>\n",
       "      <td>0.0</td>\n",
       "    </tr>\n",
       "    <tr>\n",
       "      <th>3</th>\n",
       "      <td>0</td>\n",
       "      <td>developer, full-stack</td>\n",
       "      <td>C,C++,HTML/CSS,Java,JavaScript,PHP,PowerShell,...</td>\n",
       "      <td>MongoDB,MySQL,PostgreSQL,SQLite</td>\n",
       "      <td>Amazon Web Services (AWS),Fly.io,Heroku</td>\n",
       "      <td>jQuery,Next.js,Node.js,React,WordPress</td>\n",
       "      <td>Rasberry Pi</td>\n",
       "      <td>NumPy,Pandas,Ruff,TensorFlow</td>\n",
       "      <td>Docker,npm,Pip</td>\n",
       "      <td>0</td>\n",
       "      <td>0</td>\n",
       "      <td>0</td>\n",
       "      <td>0</td>\n",
       "      <td>0</td>\n",
       "      <td>0</td>\n",
       "      <td>0.0</td>\n",
       "    </tr>\n",
       "    <tr>\n",
       "      <th>4</th>\n",
       "      <td>0</td>\n",
       "      <td>developer, full-stack</td>\n",
       "      <td>C++,HTML/CSS,JavaScript,Lua,Python,Rust</td>\n",
       "      <td>PostgreSQL,SQLite</td>\n",
       "      <td>0</td>\n",
       "      <td>0</td>\n",
       "      <td>CMake,Cargo,Rasberry Pi</td>\n",
       "      <td>0</td>\n",
       "      <td>APT,Make,npm</td>\n",
       "      <td>Vim</td>\n",
       "      <td>Other (please specify):</td>\n",
       "      <td>0</td>\n",
       "      <td>GitHub Discussions,Markdown File,Obsidian,Stac...</td>\n",
       "      <td>Discord,Whatsapp</td>\n",
       "      <td>0</td>\n",
       "      <td>0.0</td>\n",
       "    </tr>\n",
       "    <tr>\n",
       "      <th>5</th>\n",
       "      <td>0</td>\n",
       "      <td>student</td>\n",
       "      <td>Bash/Shell (all shells),HTML/CSS,Java,JavaScri...</td>\n",
       "      <td>Cloud Firestore</td>\n",
       "      <td>Cloudflare</td>\n",
       "      <td>Node.js</td>\n",
       "      <td>Rasberry Pi</td>\n",
       "      <td>0</td>\n",
       "      <td>Docker,Homebrew,npm,Pip,pnpm</td>\n",
       "      <td>Nano,Vim,Visual Studio Code,Xcode</td>\n",
       "      <td>iOS,MacOS,Ubuntu</td>\n",
       "      <td>0</td>\n",
       "      <td>Markdown File</td>\n",
       "      <td>Discord</td>\n",
       "      <td>ChatGPT,GitHub Copilot,OpenAI Codex</td>\n",
       "      <td>0.0</td>\n",
       "    </tr>\n",
       "    <tr>\n",
       "      <th>6</th>\n",
       "      <td>7</td>\n",
       "      <td>academic researcher</td>\n",
       "      <td>R</td>\n",
       "      <td>0</td>\n",
       "      <td>0</td>\n",
       "      <td>0</td>\n",
       "      <td>0</td>\n",
       "      <td>0</td>\n",
       "      <td>0</td>\n",
       "      <td>RStudio</td>\n",
       "      <td>MacOS</td>\n",
       "      <td>MacOS</td>\n",
       "      <td>0</td>\n",
       "      <td>Microsoft Teams,Whatsapp</td>\n",
       "      <td>0</td>\n",
       "      <td>0.0</td>\n",
       "    </tr>\n",
       "  </tbody>\n",
       "</table>\n",
       "</div>"
      ],
      "text/plain": [
       "   YearsCodePro                DevType  \\\n",
       "2            27   developer experience   \n",
       "3             0  developer, full-stack   \n",
       "4             0  developer, full-stack   \n",
       "5             0                student   \n",
       "6             7    academic researcher   \n",
       "\n",
       "                              LanguageHaveWorkedWith  \\\n",
       "2                                                 C#   \n",
       "3  C,C++,HTML/CSS,Java,JavaScript,PHP,PowerShell,...   \n",
       "4            C++,HTML/CSS,JavaScript,Lua,Python,Rust   \n",
       "5  Bash/Shell (all shells),HTML/CSS,Java,JavaScri...   \n",
       "6                                                  R   \n",
       "\n",
       "            DatabaseHaveWorkedWith                   PlatformHaveWorkedWith  \\\n",
       "2       Firebase Realtime Database                             Google Cloud   \n",
       "3  MongoDB,MySQL,PostgreSQL,SQLite  Amazon Web Services (AWS),Fly.io,Heroku   \n",
       "4                PostgreSQL,SQLite                                        0   \n",
       "5                  Cloud Firestore                               Cloudflare   \n",
       "6                                0                                        0   \n",
       "\n",
       "                   WebframeHaveWorkedWith   EmbeddedHaveWorkedWith  \\\n",
       "2                            ASP.NET CORE              Rasberry Pi   \n",
       "3  jQuery,Next.js,Node.js,React,WordPress              Rasberry Pi   \n",
       "4                                       0  CMake,Cargo,Rasberry Pi   \n",
       "5                                 Node.js              Rasberry Pi   \n",
       "6                                       0                        0   \n",
       "\n",
       "                            MiscTechHaveWorkedWith  \\\n",
       "2  .NET (5+) ,.NET Framework (1.0 - 4.8),.NET MAUI   \n",
       "3                     NumPy,Pandas,Ruff,TensorFlow   \n",
       "4                                                0   \n",
       "5                                                0   \n",
       "6                                                0   \n",
       "\n",
       "        ToolsTechHaveWorkedWith       NEWCollabToolsHaveWorkedWith  \\\n",
       "2                       MSBuild                      Visual Studio   \n",
       "3                Docker,npm,Pip                                  0   \n",
       "4                  APT,Make,npm                                Vim   \n",
       "5  Docker,Homebrew,npm,Pip,pnpm  Nano,Vim,Visual Studio Code,Xcode   \n",
       "6                             0                            RStudio   \n",
       "\n",
       "         OpSysPersonal use OpSysProfessional use  \\\n",
       "2                  Windows               Windows   \n",
       "3                        0                     0   \n",
       "4  Other (please specify):                     0   \n",
       "5         iOS,MacOS,Ubuntu                     0   \n",
       "6                    MacOS                 MacOS   \n",
       "\n",
       "                      OfficeStackAsyncHaveWorkedWith  \\\n",
       "2                                                  0   \n",
       "3                                                  0   \n",
       "4  GitHub Discussions,Markdown File,Obsidian,Stac...   \n",
       "5                                      Markdown File   \n",
       "6                                                  0   \n",
       "\n",
       "                  OfficeStackSyncHaveWorkedWith  \\\n",
       "2  Google Chat,Google Meet,Microsoft Teams,Zoom   \n",
       "3                                             0   \n",
       "4                              Discord,Whatsapp   \n",
       "5                                       Discord   \n",
       "6                      Microsoft Teams,Whatsapp   \n",
       "\n",
       "             AISearchDevHaveWorkedWith  WorkExp  \n",
       "2                                    0      0.0  \n",
       "3                                    0      0.0  \n",
       "4                                    0      0.0  \n",
       "5  ChatGPT,GitHub Copilot,OpenAI Codex      0.0  \n",
       "6                                    0      0.0  "
      ]
     },
     "execution_count": 30,
     "metadata": {},
     "output_type": "execute_result"
    }
   ],
   "source": [
    "cleaned_df.head()"
   ]
  },
  {
   "cell_type": "code",
   "execution_count": 31,
   "metadata": {},
   "outputs": [],
   "source": [
    "df = cleaned_df.copy()"
   ]
  },
  {
   "cell_type": "code",
   "execution_count": 32,
   "metadata": {},
   "outputs": [],
   "source": [
    "jobs = df['DevType'].unique()"
   ]
  },
  {
   "cell_type": "code",
   "execution_count": null,
   "metadata": {},
   "outputs": [],
   "source": [
    "Technologies_values_dict = split_and_explode(df, Tecchnologies_columns)\n",
    "Technologies_values_dict"
   ]
  },
  {
   "cell_type": "code",
   "execution_count": 34,
   "metadata": {},
   "outputs": [
    {
     "data": {
      "text/html": [
       "<div>\n",
       "<style scoped>\n",
       "    .dataframe tbody tr th:only-of-type {\n",
       "        vertical-align: middle;\n",
       "    }\n",
       "\n",
       "    .dataframe tbody tr th {\n",
       "        vertical-align: top;\n",
       "    }\n",
       "\n",
       "    .dataframe thead th {\n",
       "        text-align: right;\n",
       "    }\n",
       "</style>\n",
       "<table border=\"1\" class=\"dataframe\">\n",
       "  <thead>\n",
       "    <tr style=\"text-align: right;\">\n",
       "      <th></th>\n",
       "      <th>Skill</th>\n",
       "      <th>Group</th>\n",
       "      <th>Count</th>\n",
       "    </tr>\n",
       "  </thead>\n",
       "  <tbody>\n",
       "    <tr>\n",
       "      <th>0</th>\n",
       "      <td>JavaScript</td>\n",
       "      <td>LanguageHaveWorkedWith</td>\n",
       "      <td>34659</td>\n",
       "    </tr>\n",
       "    <tr>\n",
       "      <th>1</th>\n",
       "      <td>HTML/CSS</td>\n",
       "      <td>LanguageHaveWorkedWith</td>\n",
       "      <td>29383</td>\n",
       "    </tr>\n",
       "    <tr>\n",
       "      <th>2</th>\n",
       "      <td>SQL</td>\n",
       "      <td>LanguageHaveWorkedWith</td>\n",
       "      <td>28506</td>\n",
       "    </tr>\n",
       "    <tr>\n",
       "      <th>3</th>\n",
       "      <td>Python</td>\n",
       "      <td>LanguageHaveWorkedWith</td>\n",
       "      <td>28117</td>\n",
       "    </tr>\n",
       "    <tr>\n",
       "      <th>4</th>\n",
       "      <td>TypeScript</td>\n",
       "      <td>LanguageHaveWorkedWith</td>\n",
       "      <td>21696</td>\n",
       "    </tr>\n",
       "    <tr>\n",
       "      <th>5</th>\n",
       "      <td>Bash/Shell (all shells)</td>\n",
       "      <td>LanguageHaveWorkedWith</td>\n",
       "      <td>18902</td>\n",
       "    </tr>\n",
       "    <tr>\n",
       "      <th>6</th>\n",
       "      <td>Java</td>\n",
       "      <td>LanguageHaveWorkedWith</td>\n",
       "      <td>16825</td>\n",
       "    </tr>\n",
       "    <tr>\n",
       "      <th>7</th>\n",
       "      <td>C#</td>\n",
       "      <td>LanguageHaveWorkedWith</td>\n",
       "      <td>15143</td>\n",
       "    </tr>\n",
       "    <tr>\n",
       "      <th>8</th>\n",
       "      <td>C++</td>\n",
       "      <td>LanguageHaveWorkedWith</td>\n",
       "      <td>12601</td>\n",
       "    </tr>\n",
       "    <tr>\n",
       "      <th>9</th>\n",
       "      <td>C</td>\n",
       "      <td>LanguageHaveWorkedWith</td>\n",
       "      <td>11028</td>\n",
       "    </tr>\n",
       "    <tr>\n",
       "      <th>10</th>\n",
       "      <td>PHP</td>\n",
       "      <td>LanguageHaveWorkedWith</td>\n",
       "      <td>10070</td>\n",
       "    </tr>\n",
       "    <tr>\n",
       "      <th>11</th>\n",
       "      <td>PowerShell</td>\n",
       "      <td>LanguageHaveWorkedWith</td>\n",
       "      <td>7701</td>\n",
       "    </tr>\n",
       "    <tr>\n",
       "      <th>12</th>\n",
       "      <td>Go</td>\n",
       "      <td>LanguageHaveWorkedWith</td>\n",
       "      <td>7587</td>\n",
       "    </tr>\n",
       "    <tr>\n",
       "      <th>13</th>\n",
       "      <td>Rust</td>\n",
       "      <td>LanguageHaveWorkedWith</td>\n",
       "      <td>6963</td>\n",
       "    </tr>\n",
       "    <tr>\n",
       "      <th>14</th>\n",
       "      <td>Kotlin</td>\n",
       "      <td>LanguageHaveWorkedWith</td>\n",
       "      <td>5296</td>\n",
       "    </tr>\n",
       "    <tr>\n",
       "      <th>15</th>\n",
       "      <td>Lua</td>\n",
       "      <td>LanguageHaveWorkedWith</td>\n",
       "      <td>3412</td>\n",
       "    </tr>\n",
       "    <tr>\n",
       "      <th>16</th>\n",
       "      <td>Dart</td>\n",
       "      <td>LanguageHaveWorkedWith</td>\n",
       "      <td>3317</td>\n",
       "    </tr>\n",
       "    <tr>\n",
       "      <th>17</th>\n",
       "      <td>Ruby</td>\n",
       "      <td>LanguageHaveWorkedWith</td>\n",
       "      <td>2909</td>\n",
       "    </tr>\n",
       "    <tr>\n",
       "      <th>18</th>\n",
       "      <td>Assembly</td>\n",
       "      <td>LanguageHaveWorkedWith</td>\n",
       "      <td>2908</td>\n",
       "    </tr>\n",
       "    <tr>\n",
       "      <th>19</th>\n",
       "      <td>Swift</td>\n",
       "      <td>LanguageHaveWorkedWith</td>\n",
       "      <td>2604</td>\n",
       "    </tr>\n",
       "  </tbody>\n",
       "</table>\n",
       "</div>"
      ],
      "text/plain": [
       "                      Skill                   Group  Count\n",
       "0                JavaScript  LanguageHaveWorkedWith  34659\n",
       "1                  HTML/CSS  LanguageHaveWorkedWith  29383\n",
       "2                       SQL  LanguageHaveWorkedWith  28506\n",
       "3                    Python  LanguageHaveWorkedWith  28117\n",
       "4                TypeScript  LanguageHaveWorkedWith  21696\n",
       "5   Bash/Shell (all shells)  LanguageHaveWorkedWith  18902\n",
       "6                      Java  LanguageHaveWorkedWith  16825\n",
       "7                        C#  LanguageHaveWorkedWith  15143\n",
       "8                       C++  LanguageHaveWorkedWith  12601\n",
       "9                         C  LanguageHaveWorkedWith  11028\n",
       "10                      PHP  LanguageHaveWorkedWith  10070\n",
       "11               PowerShell  LanguageHaveWorkedWith   7701\n",
       "12                       Go  LanguageHaveWorkedWith   7587\n",
       "13                     Rust  LanguageHaveWorkedWith   6963\n",
       "14                   Kotlin  LanguageHaveWorkedWith   5296\n",
       "15                      Lua  LanguageHaveWorkedWith   3412\n",
       "16                     Dart  LanguageHaveWorkedWith   3317\n",
       "17                     Ruby  LanguageHaveWorkedWith   2909\n",
       "18                 Assembly  LanguageHaveWorkedWith   2908\n",
       "19                    Swift  LanguageHaveWorkedWith   2604"
      ]
     },
     "execution_count": 34,
     "metadata": {},
     "output_type": "execute_result"
    }
   ],
   "source": [
    "data = []\n",
    "for keys, values in Technologies_values_dict.items():\n",
    "    values_count = pd.Series(values).value_counts()\n",
    "    for value, count in values_count.items():\n",
    "        data.append({'Skill': value, 'Group': keys, 'Count': count})\n",
    "skills_freq = pd.DataFrame(data)\n",
    "skills_freq.head(20)   \n"
   ]
  },
  {
   "cell_type": "code",
   "execution_count": 38,
   "metadata": {},
   "outputs": [
    {
     "data": {
      "application/vnd.plotly.v1+json": {
       "config": {
        "plotlyServerURL": "https://plot.ly"
       },
       "data": [
        {
         "branchvalues": "total",
         "customdata": [
          [
           10827
          ],
          [
           7054
          ],
          [
           1339
          ],
          [
           178
          ],
          [
           262
          ],
          [
           5306
          ],
          [
           5895
          ],
          [
           7745
          ],
          [
           436
          ],
          [
           1061
          ],
          [
           474
          ],
          [
           1135
          ],
          [
           20790
          ],
          [
           104
          ],
          [
           9790
          ],
          [
           4610
          ],
          [
           8837
          ],
          [
           7782
          ],
          [
           3053
          ],
          [
           3998
          ],
          [
           1448
          ],
          [
           4065
          ],
          [
           1903
          ],
          [
           437
          ],
          [
           4419
          ],
          [
           2375
          ],
          [
           7678
          ],
          [
           2204
          ],
          [
           119
          ],
          [
           2908
          ],
          [
           1368
          ],
          [
           7748
          ],
          [
           460
          ],
          [
           531
          ],
          [
           362
          ],
          [
           694
          ],
          [
           18902
          ],
          [
           2309
          ],
          [
           6830
          ],
          [
           2245
          ],
          [
           280
          ],
          [
           1936
          ],
          [
           11028
          ],
          [
           15143
          ],
          [
           12601
          ],
          [
           559
          ],
          [
           2534
          ],
          [
           7347
          ],
          [
           2477
          ],
          [
           84
          ],
          [
           761
          ],
          [
           4087
          ],
          [
           1168
          ],
          [
           458
          ],
          [
           35754
          ],
          [
           366
          ],
          [
           4429
          ],
          [
           921
          ],
          [
           619
          ],
          [
           3122
          ],
          [
           3568
          ],
          [
           828
          ],
          [
           2056
          ],
          [
           677
          ],
          [
           2636
          ],
          [
           6504
          ],
          [
           337
          ],
          [
           449
          ],
          [
           1150
          ],
          [
           742
          ],
          [
           2648
          ],
          [
           568
          ],
          [
           275
          ],
          [
           4549
          ],
          [
           15040
          ],
          [
           61
          ],
          [
           960
          ],
          [
           1591
          ],
          [
           481
          ],
          [
           320
          ],
          [
           220
          ],
          [
           574
          ],
          [
           539
          ],
          [
           603
          ],
          [
           3317
          ],
          [
           2811
          ],
          [
           850
          ],
          [
           920
          ],
          [
           159
          ],
          [
           5352
          ],
          [
           5006
          ],
          [
           988
          ],
          [
           881
          ],
          [
           5036
          ],
          [
           798
          ],
          [
           20199
          ],
          [
           5415
          ],
          [
           27726
          ],
          [
           1914
          ],
          [
           838
          ],
          [
           649
          ],
          [
           3862
          ],
          [
           5083
          ],
          [
           6171
          ],
          [
           2767
          ],
          [
           1158
          ],
          [
           280
          ],
          [
           2247
          ],
          [
           477
          ],
          [
           139
          ],
          [
           8051
          ],
          [
           470
          ],
          [
           4500
          ],
          [
           1001
          ],
          [
           2604
          ],
          [
           1829
          ],
          [
           6003
          ],
          [
           2805
          ],
          [
           517
          ],
          [
           5775
          ],
          [
           923
          ],
          [
           4037
          ],
          [
           1116
          ],
          [
           573
          ],
          [
           1276
          ],
          [
           7515
          ],
          [
           1078
          ],
          [
           708
          ],
          [
           548
          ],
          [
           18188
          ],
          [
           8349
          ],
          [
           7587
          ],
          [
           2194
          ],
          [
           1822
          ],
          [
           5766
          ],
          [
           10806
          ],
          [
           10409
          ],
          [
           19871
          ],
          [
           1559
          ],
          [
           7898
          ],
          [
           1856
          ],
          [
           1871
          ],
          [
           29383
          ],
          [
           978
          ],
          [
           114
          ],
          [
           80
          ],
          [
           1083
          ],
          [
           924
          ],
          [
           3531
          ],
          [
           2149
          ],
          [
           11463
          ],
          [
           1500
          ],
          [
           1902
          ],
          [
           448
          ],
          [
           835
          ],
          [
           2559
          ],
          [
           1399
          ],
          [
           1239
          ],
          [
           14707
          ],
          [
           1066
          ],
          [
           455
          ],
          [
           16825
          ],
          [
           34659
          ],
          [
           24496
          ],
          [
           1501
          ],
          [
           616
          ],
          [
           6928
          ],
          [
           977
          ],
          [
           1835
          ],
          [
           5296
          ],
          [
           541
          ],
          [
           9949
          ],
          [
           4396
          ],
          [
           3598
          ],
          [
           145
          ],
          [
           1354
          ],
          [
           1312
          ],
          [
           787
          ],
          [
           3412
          ],
          [
           1558
          ],
          [
           2165
          ],
          [
           430
          ],
          [
           5632
          ],
          [
           2295
          ],
          [
           17537
          ],
          [
           17660
          ],
          [
           10544
          ],
          [
           1286
          ],
          [
           8344
          ],
          [
           13699
          ],
          [
           1762
          ],
          [
           2066
          ],
          [
           7976
          ],
          [
           752
          ],
          [
           1391
          ],
          [
           71
          ],
          [
           833
          ],
          [
           187
          ],
          [
           1946
          ],
          [
           12030
          ],
          [
           471
          ],
          [
           1253
          ],
          [
           12381
          ],
          [
           28168
          ],
          [
           6543
          ],
          [
           1140
          ],
          [
           12084
          ],
          [
           19445
          ],
          [
           5006
          ],
          [
           73
          ],
          [
           903
          ],
          [
           6806
          ],
          [
           2658
          ],
          [
           1570
          ],
          [
           2994
          ],
          [
           8120
          ],
          [
           177
          ],
          [
           1990
          ],
          [
           2041
          ],
          [
           1367
          ],
          [
           18445
          ],
          [
           12926
          ],
          [
           8601
          ],
          [
           8244
          ],
          [
           9049
          ],
          [
           1638
          ],
          [
           414
          ],
          [
           1308
          ],
          [
           1165
          ],
          [
           6131
          ],
          [
           560
          ],
          [
           698
          ],
          [
           2861
          ],
          [
           1026
          ],
          [
           659
          ],
          [
           3665
          ],
          [
           4859
          ],
          [
           1233
          ],
          [
           1395
          ],
          [
           1102
          ],
          [
           4533
          ],
          [
           4367
          ],
          [
           10070
          ],
          [
           3453
          ],
          [
           8822
          ],
          [
           1314
          ],
          [
           2311
          ],
          [
           1665
          ],
          [
           873
          ],
          [
           3260
          ],
          [
           16413
          ],
          [
           1255
          ],
          [
           355
          ],
          [
           2526
          ],
          [
           23931
          ],
          [
           7701
          ],
          [
           291
          ],
          [
           424
          ],
          [
           470
          ],
          [
           579
          ],
          [
           8179
          ],
          [
           28117
          ],
          [
           799
          ],
          [
           631
          ],
          [
           3112
          ],
          [
           1435
          ],
          [
           552
          ],
          [
           403
          ],
          [
           2356
          ],
          [
           1503
          ],
          [
           4762
          ],
          [
           559
          ],
          [
           9960
          ],
          [
           137
          ],
          [
           18002
          ],
          [
           3605
          ],
          [
           1222
          ],
          [
           2671
          ],
          [
           9906
          ],
          [
           1393
          ],
          [
           695
          ],
          [
           1201
          ],
          [
           178
          ],
          [
           3167
          ],
          [
           277
          ],
          [
           833
          ],
          [
           704
          ],
          [
           2909
          ],
          [
           2155
          ],
          [
           623
          ],
          [
           1275
          ],
          [
           6963
          ],
          [
           270
          ],
          [
           28506
          ],
          [
           16088
          ],
          [
           1437
          ],
          [
           363
          ],
          [
           4531
          ],
          [
           404
          ],
          [
           6068
          ],
          [
           6478
          ],
          [
           23518
          ],
          [
           425
          ],
          [
           1266
          ],
          [
           367
          ],
          [
           178
          ],
          [
           205
          ],
          [
           544
          ],
          [
           579
          ],
          [
           700
          ],
          [
           192
          ],
          [
           5811
          ],
          [
           4810
          ],
          [
           766
          ],
          [
           1188
          ],
          [
           754
          ],
          [
           5934
          ],
          [
           1914
          ],
          [
           1627
          ],
          [
           2961
          ],
          [
           2604
          ],
          [
           1849
          ],
          [
           1442
          ],
          [
           179
          ],
          [
           2205
          ],
          [
           1051
          ],
          [
           10943
          ],
          [
           4290
          ],
          [
           5472
          ],
          [
           105
          ],
          [
           718
          ],
          [
           4496
          ],
          [
           8989
          ],
          [
           21696
          ],
          [
           15110
          ],
          [
           15294
          ],
          [
           62
          ],
          [
           2945
          ],
          [
           1530
          ],
          [
           1949
          ],
          [
           2797
          ],
          [
           2600
          ],
          [
           5100
          ],
          [
           11739
          ],
          [
           2246
          ],
          [
           15915
          ],
          [
           40078
          ],
          [
           5949
          ],
          [
           7775
          ],
          [
           10261
          ],
          [
           7044
          ],
          [
           738
          ],
          [
           4169
          ],
          [
           9507
          ],
          [
           16479
          ],
          [
           438
          ],
          [
           113
          ],
          [
           3516
          ],
          [
           32269
          ],
          [
           26052
          ],
          [
           9426
          ],
          [
           9298
          ],
          [
           165
          ],
          [
           2417
          ],
          [
           5256
          ],
          [
           1246
          ],
          [
           5070
          ],
          [
           9740
          ],
          [
           424
          ],
          [
           583
          ],
          [
           1126
          ],
          [
           215
          ],
          [
           154
          ],
          [
           582
          ],
          [
           21144
          ],
          [
           711
          ],
          [
           116
          ],
          [
           375
          ],
          [
           281
          ],
          [
           6269
          ],
          [
           4014
          ],
          [
           2863
          ],
          [
           1449
          ],
          [
           9676
          ],
          [
           493
          ],
          [
           1312
          ],
          [
           25422
          ],
          [
           4589
          ],
          [
           18789.69246219884
          ],
          [
           12540.01053410495
          ],
          [
           6319.928924499721
          ],
          [
           19093.0020484278
          ],
          [
           5106.442788006898
          ],
          [
           15272.525546417
          ],
          [
           11683.833568185377
          ],
          [
           18272.416566696902
          ],
          [
           16392.533781498027
          ],
          [
           14446.617093073195
          ],
          [
           9331.48402956264
          ],
          [
           12675.938156518576
          ],
          [
           8774.137785873305
          ]
         ],
         "domain": {
          "x": [
           0,
           1
          ],
          "y": [
           0,
           1
          ]
         },
         "hovertemplate": "labels=%{label}<br>Count_sum=%{value}<br>parent=%{parent}<br>id=%{id}<br>Count=%{color}<extra></extra>",
         "ids": [
          "MiscTechHaveWorkedWith/.NET (5+)",
          "MiscTechHaveWorkedWith/.NET Framework (1.0 - 4.8)",
          "MiscTechHaveWorkedWith/.NET MAUI",
          "OpSysPersonal use/AIX",
          "OpSysProfessional use/AIX",
          "ToolsTechHaveWorkedWith/APT",
          "WebframeHaveWorkedWith/ASP.NET",
          "WebframeHaveWorkedWith/ASP.NET CORE",
          "LanguageHaveWorkedWith/Ada",
          "OfficeStackAsyncHaveWorkedWith/Airtable",
          "PlatformHaveWorkedWith/Alibaba Cloud",
          "AISearchDevHaveWorkedWith/Amazon Q",
          "PlatformHaveWorkedWith/Amazon Web Services (AWS)",
          "AISearchDevHaveWorkedWith/Andi",
          "OpSysPersonal use/Android",
          "OpSysProfessional use/Android",
          "NEWCollabToolsHaveWorkedWith/Android Studio",
          "WebframeHaveWorkedWith/Angular",
          "WebframeHaveWorkedWith/AngularJS",
          "ToolsTechHaveWorkedWith/Ansible",
          "ToolsTechHaveWorkedWith/Ant",
          "MiscTechHaveWorkedWith/Apache Kafka",
          "MiscTechHaveWorkedWith/Apache Spark",
          "LanguageHaveWorkedWith/Apex",
          "OpSysPersonal use/Arch",
          "OpSysProfessional use/Arch",
          "EmbeddedHaveWorkedWith/Arduino",
          "OfficeStackAsyncHaveWorkedWith/Asana",
          "AISearchDevHaveWorkedWith/AskCodi",
          "LanguageHaveWorkedWith/Assembly",
          "WebframeHaveWorkedWith/Astro",
          "OfficeStackAsyncHaveWorkedWith/Azure Devops",
          "NEWCollabToolsHaveWorkedWith/BBEdit",
          "OpSysPersonal use/BSD",
          "OpSysProfessional use/BSD",
          "OfficeStackAsyncHaveWorkedWith/Basecamp",
          "LanguageHaveWorkedWith/Bash/Shell (all shells)",
          "DatabaseHaveWorkedWith/BigQuery",
          "AISearchDevHaveWorkedWith/Bing AI",
          "WebframeHaveWorkedWith/Blazor",
          "EmbeddedHaveWorkedWith/Boost.Test",
          "ToolsTechHaveWorkedWith/Bun",
          "LanguageHaveWorkedWith/C",
          "LanguageHaveWorkedWith/C#",
          "LanguageHaveWorkedWith/C++",
          "NEWCollabToolsHaveWorkedWith/C++ Builder)",
          "NEWCollabToolsHaveWorkedWith/CLion",
          "EmbeddedHaveWorkedWith/CMake",
          "MiscTechHaveWorkedWith/CUDA",
          "EmbeddedHaveWorkedWith/CUTE",
          "MiscTechHaveWorkedWith/Capacitor",
          "EmbeddedHaveWorkedWith/Cargo",
          "DatabaseHaveWorkedWith/Cassandra",
          "EmbeddedHaveWorkedWith/Catch2",
          "AISearchDevHaveWorkedWith/ChatGPT",
          "ToolsTechHaveWorkedWith/Chef",
          "ToolsTechHaveWorkedWith/Chocolatey",
          "OpSysPersonal use/ChromeOS",
          "OpSysProfessional use/ChromeOS",
          "OfficeStackSyncHaveWorkedWith/Cisco Webex Teams",
          "AISearchDevHaveWorkedWith/Claude",
          "DatabaseHaveWorkedWith/Clickhouse",
          "OfficeStackAsyncHaveWorkedWith/Clickup",
          "LanguageHaveWorkedWith/Clojure",
          "DatabaseHaveWorkedWith/Cloud Firestore",
          "PlatformHaveWorkedWith/Cloudflare",
          "LanguageHaveWorkedWith/Cobol",
          "DatabaseHaveWorkedWith/Cockroachdb",
          "NEWCollabToolsHaveWorkedWith/Code::Blocks",
          "WebframeHaveWorkedWith/CodeIgniter",
          "AISearchDevHaveWorkedWith/Codeium",
          "AISearchDevHaveWorkedWith/Cody",
          "PlatformHaveWorkedWith/Colocation",
          "ToolsTechHaveWorkedWith/Composer",
          "OfficeStackAsyncHaveWorkedWith/Confluence",
          "OfficeStackSyncHaveWorkedWith/Coolfire Core",
          "MiscTechHaveWorkedWith/Cordova",
          "DatabaseHaveWorkedWith/Cosmos DB",
          "DatabaseHaveWorkedWith/Couch DB",
          "DatabaseHaveWorkedWith/Couchbase",
          "LanguageHaveWorkedWith/Crystal",
          "OpSysPersonal use/Cygwin",
          "OpSysProfessional use/Cygwin",
          "ToolsTechHaveWorkedWith/Dagger",
          "LanguageHaveWorkedWith/Dart",
          "NEWCollabToolsHaveWorkedWith/DataGrip",
          "PlatformHaveWorkedWith/Databricks",
          "DatabaseHaveWorkedWith/Databricks SQL",
          "DatabaseHaveWorkedWith/Datomic",
          "OpSysPersonal use/Debian",
          "OpSysProfessional use/Debian",
          "LanguageHaveWorkedWith/Delphi",
          "WebframeHaveWorkedWith/Deno",
          "PlatformHaveWorkedWith/Digital Ocean",
          "MiscTechHaveWorkedWith/DirectX",
          "OfficeStackSyncHaveWorkedWith/Discord",
          "WebframeHaveWorkedWith/Django",
          "ToolsTechHaveWorkedWith/Docker",
          "OfficeStackAsyncHaveWorkedWith/Doxygen",
          "WebframeHaveWorkedWith/Drupal",
          "DatabaseHaveWorkedWith/DuckDB",
          "DatabaseHaveWorkedWith/Dynamodb",
          "NEWCollabToolsHaveWorkedWith/Eclipse",
          "DatabaseHaveWorkedWith/Elasticsearch",
          "MiscTechHaveWorkedWith/Electron",
          "LanguageHaveWorkedWith/Elixir",
          "WebframeHaveWorkedWith/Elm",
          "NEWCollabToolsHaveWorkedWith/Emacs",
          "LanguageHaveWorkedWith/Erlang",
          "DatabaseHaveWorkedWith/EventStoreDB",
          "WebframeHaveWorkedWith/Express",
          "LanguageHaveWorkedWith/F#",
          "WebframeHaveWorkedWith/FastAPI",
          "WebframeHaveWorkedWith/Fastify",
          "OpSysPersonal use/Fedora",
          "OpSysProfessional use/Fedora",
          "PlatformHaveWorkedWith/Firebase",
          "DatabaseHaveWorkedWith/Firebase Realtime Database",
          "DatabaseHaveWorkedWith/Firebird",
          "WebframeHaveWorkedWith/Flask",
          "NEWCollabToolsHaveWorkedWith/Fleet",
          "MiscTechHaveWorkedWith/Flutter",
          "PlatformHaveWorkedWith/Fly.io",
          "LanguageHaveWorkedWith/Fortran",
          "LanguageHaveWorkedWith/GDScript",
          "EmbeddedHaveWorkedWith/GNU GCC",
          "MiscTechHaveWorkedWith/GTK",
          "WebframeHaveWorkedWith/Gatsby",
          "NEWCollabToolsHaveWorkedWith/Geany",
          "AISearchDevHaveWorkedWith/GitHub Copilot",
          "OfficeStackAsyncHaveWorkedWith/GitHub Discussions",
          "LanguageHaveWorkedWith/Go",
          "ToolsTechHaveWorkedWith/Godot",
          "NEWCollabToolsHaveWorkedWith/Goland",
          "OfficeStackSyncHaveWorkedWith/Google Chat",
          "PlatformHaveWorkedWith/Google Cloud",
          "AISearchDevHaveWorkedWith/Google Gemini",
          "OfficeStackSyncHaveWorkedWith/Google Meet",
          "ToolsTechHaveWorkedWith/Google Test",
          "ToolsTechHaveWorkedWith/Gradle",
          "LanguageHaveWorkedWith/Groovy",
          "DatabaseHaveWorkedWith/H2",
          "LanguageHaveWorkedWith/HTML/CSS",
          "MiscTechHaveWorkedWith/Hadoop",
          "OpSysPersonal use/Haiku",
          "OpSysProfessional use/Haiku",
          "LanguageHaveWorkedWith/Haskell",
          "NEWCollabToolsHaveWorkedWith/Helix",
          "PlatformHaveWorkedWith/Heroku",
          "PlatformHaveWorkedWith/Hetzner",
          "ToolsTechHaveWorkedWith/Homebrew",
          "WebframeHaveWorkedWith/Htmx",
          "MiscTechHaveWorkedWith/Hugging Face Transformers",
          "PlatformHaveWorkedWith/IBM Cloud Or Watson",
          "DatabaseHaveWorkedWith/IBM DB2",
          "NEWCollabToolsHaveWorkedWith/IPython",
          "OfficeStackSyncHaveWorkedWith/IRC",
          "DatabaseHaveWorkedWith/InfluxDB",
          "NEWCollabToolsHaveWorkedWith/IntelliJ IDEA",
          "MiscTechHaveWorkedWith/Ionic",
          "MiscTechHaveWorkedWith/JAX",
          "LanguageHaveWorkedWith/Java",
          "LanguageHaveWorkedWith/JavaScript",
          "OfficeStackAsyncHaveWorkedWith/Jira",
          "OfficeStackSyncHaveWorkedWith/Jitsi",
          "LanguageHaveWorkedWith/Julia",
          "NEWCollabToolsHaveWorkedWith/Jupyter Notebook/JupyterLab",
          "NEWCollabToolsHaveWorkedWith/Kate",
          "MiscTechHaveWorkedWith/Keras",
          "LanguageHaveWorkedWith/Kotlin",
          "MiscTechHaveWorkedWith/Ktor",
          "ToolsTechHaveWorkedWith/Kubernetes",
          "EmbeddedHaveWorkedWith/LLVM's Clang",
          "WebframeHaveWorkedWith/Laravel",
          "AISearchDevHaveWorkedWith/Lightning AI",
          "OfficeStackAsyncHaveWorkedWith/Linear",
          "PlatformHaveWorkedWith/Linode",
          "LanguageHaveWorkedWith/Lisp",
          "LanguageHaveWorkedWith/Lua",
          "OfficeStackAsyncHaveWorkedWith/Lucid",
          "LanguageHaveWorkedWith/MATLAB",
          "MiscTechHaveWorkedWith/MFC",
          "ToolsTechHaveWorkedWith/MSBuild",
          "EmbeddedHaveWorkedWith/MSVC",
          "OpSysPersonal use/MacOS",
          "OpSysProfessional use/MacOS",
          "ToolsTechHaveWorkedWith/Make",
          "PlatformHaveWorkedWith/Managed Hosting",
          "DatabaseHaveWorkedWith/MariaDB",
          "OfficeStackAsyncHaveWorkedWith/Markdown File",
          "OfficeStackSyncHaveWorkedWith/Matrix",
          "OfficeStackSyncHaveWorkedWith/Mattermost",
          "ToolsTechHaveWorkedWith/Maven (build tool)",
          "EmbeddedHaveWorkedWith/Meson",
          "AISearchDevHaveWorkedWith/Meta AI",
          "AISearchDevHaveWorkedWith/Metaphor",
          "LanguageHaveWorkedWith/MicroPython",
          "EmbeddedHaveWorkedWith/Micronaut",
          "DatabaseHaveWorkedWith/Microsoft Access",
          "PlatformHaveWorkedWith/Microsoft Azure",
          "OfficeStackAsyncHaveWorkedWith/Microsoft Lists",
          "OfficeStackAsyncHaveWorkedWith/Microsoft Planner",
          "DatabaseHaveWorkedWith/Microsoft SQL Server",
          "OfficeStackSyncHaveWorkedWith/Microsoft Teams",
          "OfficeStackAsyncHaveWorkedWith/Miro",
          "OfficeStackAsyncHaveWorkedWith/Monday.com",
          "DatabaseHaveWorkedWith/MongoDB",
          "DatabaseHaveWorkedWith/MySQL",
          "NEWCollabToolsHaveWorkedWith/Nano",
          "AISearchDevHaveWorkedWith/Neeva AI",
          "DatabaseHaveWorkedWith/Neo4J",
          "NEWCollabToolsHaveWorkedWith/Neovim",
          "WebframeHaveWorkedWith/NestJS",
          "NEWCollabToolsHaveWorkedWith/Netbeans",
          "PlatformHaveWorkedWith/Netlify",
          "WebframeHaveWorkedWith/Next.js",
          "LanguageHaveWorkedWith/Nim",
          "EmbeddedHaveWorkedWith/Ninja",
          "ToolsTechHaveWorkedWith/Ninja",
          "ToolsTechHaveWorkedWith/Nix",
          "WebframeHaveWorkedWith/Node.js",
          "NEWCollabToolsHaveWorkedWith/Notepad++",
          "OfficeStackAsyncHaveWorkedWith/Notion",
          "ToolsTechHaveWorkedWith/NuGet",
          "MiscTechHaveWorkedWith/NumPy",
          "WebframeHaveWorkedWith/Nuxt.js",
          "LanguageHaveWorkedWith/OCaml",
          "PlatformHaveWorkedWith/OVH",
          "LanguageHaveWorkedWith/Objective-C",
          "OfficeStackAsyncHaveWorkedWith/Obsidian",
          "AISearchDevHaveWorkedWith/OpenAI Codex",
          "MiscTechHaveWorkedWith/OpenCL",
          "MiscTechHaveWorkedWith/OpenGL",
          "PlatformHaveWorkedWith/OpenShift",
          "PlatformHaveWorkedWith/OpenStack",
          "MiscTechHaveWorkedWith/Opencv",
          "DatabaseHaveWorkedWith/Oracle",
          "PlatformHaveWorkedWith/Oracle Cloud Infrastructure (OCI)",
          "OpSysPersonal use/Other (please specify):",
          "OpSysProfessional use/Other (please specify):",
          "OpSysPersonal use/Other Linux-based",
          "OpSysProfessional use/Other Linux-based",
          "LanguageHaveWorkedWith/PHP",
          "ToolsTechHaveWorkedWith/Pacman",
          "MiscTechHaveWorkedWith/Pandas",
          "LanguageHaveWorkedWith/Perl",
          "AISearchDevHaveWorkedWith/Perplexity AI",
          "AISearchDevHaveWorkedWith/Phind",
          "WebframeHaveWorkedWith/Phoenix",
          "NEWCollabToolsHaveWorkedWith/PhpStorm",
          "ToolsTechHaveWorkedWith/Pip",
          "EmbeddedHaveWorkedWith/PlatformIO",
          "WebframeHaveWorkedWith/Play Framework",
          "ToolsTechHaveWorkedWith/Podman",
          "DatabaseHaveWorkedWith/PostgreSQL",
          "LanguageHaveWorkedWith/PowerShell",
          "DatabaseHaveWorkedWith/Presto",
          "LanguageHaveWorkedWith/Prolog",
          "ToolsTechHaveWorkedWith/Pulumi",
          "ToolsTechHaveWorkedWith/Puppet",
          "NEWCollabToolsHaveWorkedWith/PyCharm",
          "LanguageHaveWorkedWith/Python",
          "PlatformHaveWorkedWith/PythonAnywhere",
          "EmbeddedHaveWorkedWith/QMake",
          "MiscTechHaveWorkedWith/Qt",
          "NEWCollabToolsHaveWorkedWith/Qt Creator",
          "MiscTechHaveWorkedWith/Quarkus",
          "AISearchDevHaveWorkedWith/Quora Poe",
          "LanguageHaveWorkedWith/R",
          "NEWCollabToolsHaveWorkedWith/RStudio",
          "MiscTechHaveWorkedWith/RabbitMQ",
          "NEWCollabToolsHaveWorkedWith/Rad Studio (Delphi",
          "EmbeddedHaveWorkedWith/Rasberry Pi",
          "DatabaseHaveWorkedWith/RavenDB",
          "WebframeHaveWorkedWith/React",
          "MiscTechHaveWorkedWith/React Native",
          "OpSysPersonal use/Red Hat",
          "OpSysProfessional use/Red Hat",
          "DatabaseHaveWorkedWith/Redis",
          "OfficeStackAsyncHaveWorkedWith/Redmine",
          "WebframeHaveWorkedWith/Remix",
          "PlatformHaveWorkedWith/Render",
          "AISearchDevHaveWorkedWith/Replit Ghostwriter",
          "NEWCollabToolsHaveWorkedWith/Rider",
          "OfficeStackSyncHaveWorkedWith/Ringcentral",
          "OfficeStackSyncHaveWorkedWith/Rocketchat",
          "MiscTechHaveWorkedWith/Roslyn",
          "LanguageHaveWorkedWith/Ruby",
          "WebframeHaveWorkedWith/Ruby on Rails",
          "NEWCollabToolsHaveWorkedWith/RubyMine",
          "MiscTechHaveWorkedWith/Ruff",
          "LanguageHaveWorkedWith/Rust",
          "EmbeddedHaveWorkedWith/SCons",
          "LanguageHaveWorkedWith/SQL",
          "DatabaseHaveWorkedWith/SQLite",
          "LanguageHaveWorkedWith/Scala",
          "PlatformHaveWorkedWith/Scaleway",
          "MiscTechHaveWorkedWith/Scikit-Learn",
          "OfficeStackAsyncHaveWorkedWith/Shortcut",
          "OfficeStackSyncHaveWorkedWith/Signal",
          "OfficeStackSyncHaveWorkedWith/Skype",
          "OfficeStackSyncHaveWorkedWith/Slack",
          "OfficeStackAsyncHaveWorkedWith/Smartsheet",
          "DatabaseHaveWorkedWith/Snowflake",
          "AISearchDevHaveWorkedWith/Snyk Code",
          "OpSysPersonal use/Solaris",
          "OpSysProfessional use/Solaris",
          "WebframeHaveWorkedWith/Solid.js",
          "LanguageHaveWorkedWith/Solidity",
          "DatabaseHaveWorkedWith/Solr",
          "NEWCollabToolsHaveWorkedWith/Spacemacs",
          "WebframeHaveWorkedWith/Spring Boot",
          "MiscTechHaveWorkedWith/Spring Framework",
          "NEWCollabToolsHaveWorkedWith/Spyder",
          "OfficeStackAsyncHaveWorkedWith/Stack Overflow for Teams",
          "WebframeHaveWorkedWith/Strapi",
          "NEWCollabToolsHaveWorkedWith/Sublime Text",
          "DatabaseHaveWorkedWith/Supabase",
          "PlatformHaveWorkedWith/Supabase",
          "WebframeHaveWorkedWith/Svelte",
          "LanguageHaveWorkedWith/Swift",
          "MiscTechHaveWorkedWith/SwiftUI",
          "WebframeHaveWorkedWith/Symfony",
          "OfficeStackSyncHaveWorkedWith/Symphony",
          "AISearchDevHaveWorkedWith/Tabnine",
          "MiscTechHaveWorkedWith/Tauri",
          "OfficeStackSyncHaveWorkedWith/Telegram",
          "MiscTechHaveWorkedWith/TensorFlow",
          "ToolsTechHaveWorkedWith/Terraform",
          "DatabaseHaveWorkedWith/TiDB",
          "MiscTechHaveWorkedWith/Tidyverse",
          "MiscTechHaveWorkedWith/Torch/PyTorch",
          "OfficeStackAsyncHaveWorkedWith/Trello",
          "LanguageHaveWorkedWith/TypeScript",
          "OpSysPersonal use/Ubuntu",
          "OpSysProfessional use/Ubuntu",
          "OfficeStackSyncHaveWorkedWith/Unify Circuit",
          "ToolsTechHaveWorkedWith/Unity 3D",
          "ToolsTechHaveWorkedWith/Unreal Engine",
          "LanguageHaveWorkedWith/VBA",
          "PlatformHaveWorkedWith/VMware",
          "NEWCollabToolsHaveWorkedWith/VSCodium",
          "PlatformHaveWorkedWith/Vercel",
          "NEWCollabToolsHaveWorkedWith/Vim",
          "LanguageHaveWorkedWith/Visual Basic (.Net)",
          "NEWCollabToolsHaveWorkedWith/Visual Studio",
          "NEWCollabToolsHaveWorkedWith/Visual Studio Code",
          "AISearchDevHaveWorkedWith/Visual Studio Intellicode",
          "ToolsTechHaveWorkedWith/Visual Studio Solution",
          "ToolsTechHaveWorkedWith/Vite",
          "WebframeHaveWorkedWith/Vue.js",
          "PlatformHaveWorkedWith/Vultr",
          "NEWCollabToolsHaveWorkedWith/WebStorm",
          "ToolsTechHaveWorkedWith/Webpack",
          "OfficeStackSyncHaveWorkedWith/Whatsapp",
          "AISearchDevHaveWorkedWith/Whispr AI",
          "OfficeStackSyncHaveWorkedWith/Wickr",
          "OfficeStackAsyncHaveWorkedWith/Wikis",
          "OpSysPersonal use/Windows",
          "OpSysProfessional use/Windows",
          "OpSysPersonal use/Windows Subsystem for Linux (WSL)",
          "OpSysProfessional use/Windows Subsystem for Linux (WSL)",
          "OfficeStackSyncHaveWorkedWith/Wire",
          "AISearchDevHaveWorkedWith/WolframAlpha",
          "WebframeHaveWorkedWith/WordPress",
          "MiscTechHaveWorkedWith/Xamarin",
          "NEWCollabToolsHaveWorkedWith/Xcode",
          "ToolsTechHaveWorkedWith/Yarn",
          "WebframeHaveWorkedWith/Yii 2",
          "AISearchDevHaveWorkedWith/You.com",
          "OfficeStackAsyncHaveWorkedWith/YouTrack",
          "EmbeddedHaveWorkedWith/ZMK",
          "LanguageHaveWorkedWith/Zephyr",
          "LanguageHaveWorkedWith/Zig",
          "OfficeStackSyncHaveWorkedWith/Zoom",
          "OfficeStackSyncHaveWorkedWith/Zulip",
          "EmbeddedHaveWorkedWith/build2",
          "EmbeddedHaveWorkedWith/cppunit",
          "EmbeddedHaveWorkedWith/doctest",
          "OpSysPersonal use/iOS",
          "OpSysProfessional use/iOS",
          "OpSysPersonal use/iPadOS",
          "OpSysProfessional use/iPadOS",
          "WebframeHaveWorkedWith/jQuery",
          "MiscTechHaveWorkedWith/mlflow",
          "PlatformHaveWorkedWith/now Akamai",
          "ToolsTechHaveWorkedWith/npm",
          "ToolsTechHaveWorkedWith/pnpm",
          "AISearchDevHaveWorkedWith",
          "DatabaseHaveWorkedWith",
          "EmbeddedHaveWorkedWith",
          "LanguageHaveWorkedWith",
          "MiscTechHaveWorkedWith",
          "NEWCollabToolsHaveWorkedWith",
          "OfficeStackAsyncHaveWorkedWith",
          "OfficeStackSyncHaveWorkedWith",
          "OpSysPersonal use",
          "OpSysProfessional use",
          "PlatformHaveWorkedWith",
          "ToolsTechHaveWorkedWith",
          "WebframeHaveWorkedWith"
         ],
         "labels": [
          ".NET (5+)",
          ".NET Framework (1.0 - 4.8)",
          ".NET MAUI",
          "AIX",
          "AIX",
          "APT",
          "ASP.NET",
          "ASP.NET CORE",
          "Ada",
          "Airtable",
          "Alibaba Cloud",
          "Amazon Q",
          "Amazon Web Services (AWS)",
          "Andi",
          "Android",
          "Android",
          "Android Studio",
          "Angular",
          "AngularJS",
          "Ansible",
          "Ant",
          "Apache Kafka",
          "Apache Spark",
          "Apex",
          "Arch",
          "Arch",
          "Arduino",
          "Asana",
          "AskCodi",
          "Assembly",
          "Astro",
          "Azure Devops",
          "BBEdit",
          "BSD",
          "BSD",
          "Basecamp",
          "Bash/Shell (all shells)",
          "BigQuery",
          "Bing AI",
          "Blazor",
          "Boost.Test",
          "Bun",
          "C",
          "C#",
          "C++",
          "C++ Builder)",
          "CLion",
          "CMake",
          "CUDA",
          "CUTE",
          "Capacitor",
          "Cargo",
          "Cassandra",
          "Catch2",
          "ChatGPT",
          "Chef",
          "Chocolatey",
          "ChromeOS",
          "ChromeOS",
          "Cisco Webex Teams",
          "Claude",
          "Clickhouse",
          "Clickup",
          "Clojure",
          "Cloud Firestore",
          "Cloudflare",
          "Cobol",
          "Cockroachdb",
          "Code::Blocks",
          "CodeIgniter",
          "Codeium",
          "Cody",
          "Colocation",
          "Composer",
          "Confluence",
          "Coolfire Core",
          "Cordova",
          "Cosmos DB",
          "Couch DB",
          "Couchbase",
          "Crystal",
          "Cygwin",
          "Cygwin",
          "Dagger",
          "Dart",
          "DataGrip",
          "Databricks",
          "Databricks SQL",
          "Datomic",
          "Debian",
          "Debian",
          "Delphi",
          "Deno",
          "Digital Ocean",
          "DirectX",
          "Discord",
          "Django",
          "Docker",
          "Doxygen",
          "Drupal",
          "DuckDB",
          "Dynamodb",
          "Eclipse",
          "Elasticsearch",
          "Electron",
          "Elixir",
          "Elm",
          "Emacs",
          "Erlang",
          "EventStoreDB",
          "Express",
          "F#",
          "FastAPI",
          "Fastify",
          "Fedora",
          "Fedora",
          "Firebase",
          "Firebase Realtime Database",
          "Firebird",
          "Flask",
          "Fleet",
          "Flutter",
          "Fly.io",
          "Fortran",
          "GDScript",
          "GNU GCC",
          "GTK",
          "Gatsby",
          "Geany",
          "GitHub Copilot",
          "GitHub Discussions",
          "Go",
          "Godot",
          "Goland",
          "Google Chat",
          "Google Cloud",
          "Google Gemini",
          "Google Meet",
          "Google Test",
          "Gradle",
          "Groovy",
          "H2",
          "HTML/CSS",
          "Hadoop",
          "Haiku",
          "Haiku",
          "Haskell",
          "Helix",
          "Heroku",
          "Hetzner",
          "Homebrew",
          "Htmx",
          "Hugging Face Transformers",
          "IBM Cloud Or Watson",
          "IBM DB2",
          "IPython",
          "IRC",
          "InfluxDB",
          "IntelliJ IDEA",
          "Ionic",
          "JAX",
          "Java",
          "JavaScript",
          "Jira",
          "Jitsi",
          "Julia",
          "Jupyter Notebook/JupyterLab",
          "Kate",
          "Keras",
          "Kotlin",
          "Ktor",
          "Kubernetes",
          "LLVM's Clang",
          "Laravel",
          "Lightning AI",
          "Linear",
          "Linode",
          "Lisp",
          "Lua",
          "Lucid",
          "MATLAB",
          "MFC",
          "MSBuild",
          "MSVC",
          "MacOS",
          "MacOS",
          "Make",
          "Managed Hosting",
          "MariaDB",
          "Markdown File",
          "Matrix",
          "Mattermost",
          "Maven (build tool)",
          "Meson",
          "Meta AI",
          "Metaphor",
          "MicroPython",
          "Micronaut",
          "Microsoft Access",
          "Microsoft Azure",
          "Microsoft Lists",
          "Microsoft Planner",
          "Microsoft SQL Server",
          "Microsoft Teams",
          "Miro",
          "Monday.com",
          "MongoDB",
          "MySQL",
          "Nano",
          "Neeva AI",
          "Neo4J",
          "Neovim",
          "NestJS",
          "Netbeans",
          "Netlify",
          "Next.js",
          "Nim",
          "Ninja",
          "Ninja",
          "Nix",
          "Node.js",
          "Notepad++",
          "Notion",
          "NuGet",
          "NumPy",
          "Nuxt.js",
          "OCaml",
          "OVH",
          "Objective-C",
          "Obsidian",
          "OpenAI Codex",
          "OpenCL",
          "OpenGL",
          "OpenShift",
          "OpenStack",
          "Opencv",
          "Oracle",
          "Oracle Cloud Infrastructure (OCI)",
          "Other (please specify):",
          "Other (please specify):",
          "Other Linux-based",
          "Other Linux-based",
          "PHP",
          "Pacman",
          "Pandas",
          "Perl",
          "Perplexity AI",
          "Phind",
          "Phoenix",
          "PhpStorm",
          "Pip",
          "PlatformIO",
          "Play Framework",
          "Podman",
          "PostgreSQL",
          "PowerShell",
          "Presto",
          "Prolog",
          "Pulumi",
          "Puppet",
          "PyCharm",
          "Python",
          "PythonAnywhere",
          "QMake",
          "Qt",
          "Qt Creator",
          "Quarkus",
          "Quora Poe",
          "R",
          "RStudio",
          "RabbitMQ",
          "Rad Studio (Delphi",
          "Rasberry Pi",
          "RavenDB",
          "React",
          "React Native",
          "Red Hat",
          "Red Hat",
          "Redis",
          "Redmine",
          "Remix",
          "Render",
          "Replit Ghostwriter",
          "Rider",
          "Ringcentral",
          "Rocketchat",
          "Roslyn",
          "Ruby",
          "Ruby on Rails",
          "RubyMine",
          "Ruff",
          "Rust",
          "SCons",
          "SQL",
          "SQLite",
          "Scala",
          "Scaleway",
          "Scikit-Learn",
          "Shortcut",
          "Signal",
          "Skype",
          "Slack",
          "Smartsheet",
          "Snowflake",
          "Snyk Code",
          "Solaris",
          "Solaris",
          "Solid.js",
          "Solidity",
          "Solr",
          "Spacemacs",
          "Spring Boot",
          "Spring Framework",
          "Spyder",
          "Stack Overflow for Teams",
          "Strapi",
          "Sublime Text",
          "Supabase",
          "Supabase",
          "Svelte",
          "Swift",
          "SwiftUI",
          "Symfony",
          "Symphony",
          "Tabnine",
          "Tauri",
          "Telegram",
          "TensorFlow",
          "Terraform",
          "TiDB",
          "Tidyverse",
          "Torch/PyTorch",
          "Trello",
          "TypeScript",
          "Ubuntu",
          "Ubuntu",
          "Unify Circuit",
          "Unity 3D",
          "Unreal Engine",
          "VBA",
          "VMware",
          "VSCodium",
          "Vercel",
          "Vim",
          "Visual Basic (.Net)",
          "Visual Studio",
          "Visual Studio Code",
          "Visual Studio Intellicode",
          "Visual Studio Solution",
          "Vite",
          "Vue.js",
          "Vultr",
          "WebStorm",
          "Webpack",
          "Whatsapp",
          "Whispr AI",
          "Wickr",
          "Wikis",
          "Windows",
          "Windows",
          "Windows Subsystem for Linux (WSL)",
          "Windows Subsystem for Linux (WSL)",
          "Wire",
          "WolframAlpha",
          "WordPress",
          "Xamarin",
          "Xcode",
          "Yarn",
          "Yii 2",
          "You.com",
          "YouTrack",
          "ZMK",
          "Zephyr",
          "Zig",
          "Zoom",
          "Zulip",
          "build2",
          "cppunit",
          "doctest",
          "iOS",
          "iOS",
          "iPadOS",
          "iPadOS",
          "jQuery",
          "mlflow",
          "now Akamai",
          "npm",
          "pnpm",
          "AISearchDevHaveWorkedWith",
          "DatabaseHaveWorkedWith",
          "EmbeddedHaveWorkedWith",
          "LanguageHaveWorkedWith",
          "MiscTechHaveWorkedWith",
          "NEWCollabToolsHaveWorkedWith",
          "OfficeStackAsyncHaveWorkedWith",
          "OfficeStackSyncHaveWorkedWith",
          "OpSysPersonal use",
          "OpSysProfessional use",
          "PlatformHaveWorkedWith",
          "ToolsTechHaveWorkedWith",
          "WebframeHaveWorkedWith"
         ],
         "marker": {
          "coloraxis": "coloraxis",
          "colors": [
           10827,
           7054,
           1339,
           178,
           262,
           5306,
           5895,
           7745,
           436,
           1061,
           474,
           1135,
           20790,
           104,
           9790,
           4610,
           8837,
           7782,
           3053,
           3998,
           1448,
           4065,
           1903,
           437,
           4419,
           2375,
           7678,
           2204,
           119,
           2908,
           1368,
           7748,
           460,
           531,
           362,
           694,
           18902,
           2309,
           6830,
           2245,
           280,
           1936,
           11028,
           15143,
           12601,
           559,
           2534,
           7347,
           2477,
           84,
           761,
           4087,
           1168,
           458,
           35754,
           366,
           4429,
           921,
           619,
           3122,
           3568,
           828,
           2056,
           677,
           2636,
           6504,
           337,
           449,
           1150,
           742,
           2648,
           568,
           275,
           4549,
           15040,
           61,
           960,
           1591,
           481,
           320,
           220,
           574,
           539,
           603,
           3317,
           2811,
           850,
           920,
           159,
           5352,
           5006,
           988,
           881,
           5036,
           798,
           20199,
           5415,
           27726,
           1914,
           838,
           649,
           3862,
           5083,
           6171,
           2767,
           1158,
           280,
           2247,
           477,
           139,
           8051,
           470,
           4500,
           1001,
           2604,
           1829,
           6003,
           2805,
           517,
           5775,
           923,
           4037,
           1116,
           573,
           1276,
           7515,
           1078,
           708,
           548,
           18188,
           8349,
           7587,
           2194,
           1822,
           5766,
           10806,
           10409,
           19871,
           1559,
           7898,
           1856,
           1871,
           29383,
           978,
           114,
           80,
           1083,
           924,
           3531,
           2149,
           11463,
           1500,
           1902,
           448,
           835,
           2559,
           1399,
           1239,
           14707,
           1066,
           455,
           16825,
           34659,
           24496,
           1501,
           616,
           6928,
           977,
           1835,
           5296,
           541,
           9949,
           4396,
           3598,
           145,
           1354,
           1312,
           787,
           3412,
           1558,
           2165,
           430,
           5632,
           2295,
           17537,
           17660,
           10544,
           1286,
           8344,
           13699,
           1762,
           2066,
           7976,
           752,
           1391,
           71,
           833,
           187,
           1946,
           12030,
           471,
           1253,
           12381,
           28168,
           6543,
           1140,
           12084,
           19445,
           5006,
           73,
           903,
           6806,
           2658,
           1570,
           2994,
           8120,
           177,
           1990,
           2041,
           1367,
           18445,
           12926,
           8601,
           8244,
           9049,
           1638,
           414,
           1308,
           1165,
           6131,
           560,
           698,
           2861,
           1026,
           659,
           3665,
           4859,
           1233,
           1395,
           1102,
           4533,
           4367,
           10070,
           3453,
           8822,
           1314,
           2311,
           1665,
           873,
           3260,
           16413,
           1255,
           355,
           2526,
           23931,
           7701,
           291,
           424,
           470,
           579,
           8179,
           28117,
           799,
           631,
           3112,
           1435,
           552,
           403,
           2356,
           1503,
           4762,
           559,
           9960,
           137,
           18002,
           3605,
           1222,
           2671,
           9906,
           1393,
           695,
           1201,
           178,
           3167,
           277,
           833,
           704,
           2909,
           2155,
           623,
           1275,
           6963,
           270,
           28506,
           16088,
           1437,
           363,
           4531,
           404,
           6068,
           6478,
           23518,
           425,
           1266,
           367,
           178,
           205,
           544,
           579,
           700,
           192,
           5811,
           4810,
           766,
           1188,
           754,
           5934,
           1914,
           1627,
           2961,
           2604,
           1849,
           1442,
           179,
           2205,
           1051,
           10943,
           4290,
           5472,
           105,
           718,
           4496,
           8989,
           21696,
           15110,
           15294,
           62,
           2945,
           1530,
           1949,
           2797,
           2600,
           5100,
           11739,
           2246,
           15915,
           40078,
           5949,
           7775,
           10261,
           7044,
           738,
           4169,
           9507,
           16479,
           438,
           113,
           3516,
           32269,
           26052,
           9426,
           9298,
           165,
           2417,
           5256,
           1246,
           5070,
           9740,
           424,
           583,
           1126,
           215,
           154,
           582,
           21144,
           711,
           116,
           375,
           281,
           6269,
           4014,
           2863,
           1449,
           9676,
           493,
           1312,
           25422,
           4589,
           18789.69246219884,
           12540.01053410495,
           6319.928924499721,
           19093.0020484278,
           5106.442788006898,
           15272.525546417,
           11683.833568185377,
           18272.416566696902,
           16392.533781498027,
           14446.617093073195,
           9331.48402956264,
           12675.938156518576,
           8774.137785873305
          ]
         },
         "name": "",
         "parents": [
          "MiscTechHaveWorkedWith",
          "MiscTechHaveWorkedWith",
          "MiscTechHaveWorkedWith",
          "OpSysPersonal use",
          "OpSysProfessional use",
          "ToolsTechHaveWorkedWith",
          "WebframeHaveWorkedWith",
          "WebframeHaveWorkedWith",
          "LanguageHaveWorkedWith",
          "OfficeStackAsyncHaveWorkedWith",
          "PlatformHaveWorkedWith",
          "AISearchDevHaveWorkedWith",
          "PlatformHaveWorkedWith",
          "AISearchDevHaveWorkedWith",
          "OpSysPersonal use",
          "OpSysProfessional use",
          "NEWCollabToolsHaveWorkedWith",
          "WebframeHaveWorkedWith",
          "WebframeHaveWorkedWith",
          "ToolsTechHaveWorkedWith",
          "ToolsTechHaveWorkedWith",
          "MiscTechHaveWorkedWith",
          "MiscTechHaveWorkedWith",
          "LanguageHaveWorkedWith",
          "OpSysPersonal use",
          "OpSysProfessional use",
          "EmbeddedHaveWorkedWith",
          "OfficeStackAsyncHaveWorkedWith",
          "AISearchDevHaveWorkedWith",
          "LanguageHaveWorkedWith",
          "WebframeHaveWorkedWith",
          "OfficeStackAsyncHaveWorkedWith",
          "NEWCollabToolsHaveWorkedWith",
          "OpSysPersonal use",
          "OpSysProfessional use",
          "OfficeStackAsyncHaveWorkedWith",
          "LanguageHaveWorkedWith",
          "DatabaseHaveWorkedWith",
          "AISearchDevHaveWorkedWith",
          "WebframeHaveWorkedWith",
          "EmbeddedHaveWorkedWith",
          "ToolsTechHaveWorkedWith",
          "LanguageHaveWorkedWith",
          "LanguageHaveWorkedWith",
          "LanguageHaveWorkedWith",
          "NEWCollabToolsHaveWorkedWith",
          "NEWCollabToolsHaveWorkedWith",
          "EmbeddedHaveWorkedWith",
          "MiscTechHaveWorkedWith",
          "EmbeddedHaveWorkedWith",
          "MiscTechHaveWorkedWith",
          "EmbeddedHaveWorkedWith",
          "DatabaseHaveWorkedWith",
          "EmbeddedHaveWorkedWith",
          "AISearchDevHaveWorkedWith",
          "ToolsTechHaveWorkedWith",
          "ToolsTechHaveWorkedWith",
          "OpSysPersonal use",
          "OpSysProfessional use",
          "OfficeStackSyncHaveWorkedWith",
          "AISearchDevHaveWorkedWith",
          "DatabaseHaveWorkedWith",
          "OfficeStackAsyncHaveWorkedWith",
          "LanguageHaveWorkedWith",
          "DatabaseHaveWorkedWith",
          "PlatformHaveWorkedWith",
          "LanguageHaveWorkedWith",
          "DatabaseHaveWorkedWith",
          "NEWCollabToolsHaveWorkedWith",
          "WebframeHaveWorkedWith",
          "AISearchDevHaveWorkedWith",
          "AISearchDevHaveWorkedWith",
          "PlatformHaveWorkedWith",
          "ToolsTechHaveWorkedWith",
          "OfficeStackAsyncHaveWorkedWith",
          "OfficeStackSyncHaveWorkedWith",
          "MiscTechHaveWorkedWith",
          "DatabaseHaveWorkedWith",
          "DatabaseHaveWorkedWith",
          "DatabaseHaveWorkedWith",
          "LanguageHaveWorkedWith",
          "OpSysPersonal use",
          "OpSysProfessional use",
          "ToolsTechHaveWorkedWith",
          "LanguageHaveWorkedWith",
          "NEWCollabToolsHaveWorkedWith",
          "PlatformHaveWorkedWith",
          "DatabaseHaveWorkedWith",
          "DatabaseHaveWorkedWith",
          "OpSysPersonal use",
          "OpSysProfessional use",
          "LanguageHaveWorkedWith",
          "WebframeHaveWorkedWith",
          "PlatformHaveWorkedWith",
          "MiscTechHaveWorkedWith",
          "OfficeStackSyncHaveWorkedWith",
          "WebframeHaveWorkedWith",
          "ToolsTechHaveWorkedWith",
          "OfficeStackAsyncHaveWorkedWith",
          "WebframeHaveWorkedWith",
          "DatabaseHaveWorkedWith",
          "DatabaseHaveWorkedWith",
          "NEWCollabToolsHaveWorkedWith",
          "DatabaseHaveWorkedWith",
          "MiscTechHaveWorkedWith",
          "LanguageHaveWorkedWith",
          "WebframeHaveWorkedWith",
          "NEWCollabToolsHaveWorkedWith",
          "LanguageHaveWorkedWith",
          "DatabaseHaveWorkedWith",
          "WebframeHaveWorkedWith",
          "LanguageHaveWorkedWith",
          "WebframeHaveWorkedWith",
          "WebframeHaveWorkedWith",
          "OpSysPersonal use",
          "OpSysProfessional use",
          "PlatformHaveWorkedWith",
          "DatabaseHaveWorkedWith",
          "DatabaseHaveWorkedWith",
          "WebframeHaveWorkedWith",
          "NEWCollabToolsHaveWorkedWith",
          "MiscTechHaveWorkedWith",
          "PlatformHaveWorkedWith",
          "LanguageHaveWorkedWith",
          "LanguageHaveWorkedWith",
          "EmbeddedHaveWorkedWith",
          "MiscTechHaveWorkedWith",
          "WebframeHaveWorkedWith",
          "NEWCollabToolsHaveWorkedWith",
          "AISearchDevHaveWorkedWith",
          "OfficeStackAsyncHaveWorkedWith",
          "LanguageHaveWorkedWith",
          "ToolsTechHaveWorkedWith",
          "NEWCollabToolsHaveWorkedWith",
          "OfficeStackSyncHaveWorkedWith",
          "PlatformHaveWorkedWith",
          "AISearchDevHaveWorkedWith",
          "OfficeStackSyncHaveWorkedWith",
          "ToolsTechHaveWorkedWith",
          "ToolsTechHaveWorkedWith",
          "LanguageHaveWorkedWith",
          "DatabaseHaveWorkedWith",
          "LanguageHaveWorkedWith",
          "MiscTechHaveWorkedWith",
          "OpSysPersonal use",
          "OpSysProfessional use",
          "LanguageHaveWorkedWith",
          "NEWCollabToolsHaveWorkedWith",
          "PlatformHaveWorkedWith",
          "PlatformHaveWorkedWith",
          "ToolsTechHaveWorkedWith",
          "WebframeHaveWorkedWith",
          "MiscTechHaveWorkedWith",
          "PlatformHaveWorkedWith",
          "DatabaseHaveWorkedWith",
          "NEWCollabToolsHaveWorkedWith",
          "OfficeStackSyncHaveWorkedWith",
          "DatabaseHaveWorkedWith",
          "NEWCollabToolsHaveWorkedWith",
          "MiscTechHaveWorkedWith",
          "MiscTechHaveWorkedWith",
          "LanguageHaveWorkedWith",
          "LanguageHaveWorkedWith",
          "OfficeStackAsyncHaveWorkedWith",
          "OfficeStackSyncHaveWorkedWith",
          "LanguageHaveWorkedWith",
          "NEWCollabToolsHaveWorkedWith",
          "NEWCollabToolsHaveWorkedWith",
          "MiscTechHaveWorkedWith",
          "LanguageHaveWorkedWith",
          "MiscTechHaveWorkedWith",
          "ToolsTechHaveWorkedWith",
          "EmbeddedHaveWorkedWith",
          "WebframeHaveWorkedWith",
          "AISearchDevHaveWorkedWith",
          "OfficeStackAsyncHaveWorkedWith",
          "PlatformHaveWorkedWith",
          "LanguageHaveWorkedWith",
          "LanguageHaveWorkedWith",
          "OfficeStackAsyncHaveWorkedWith",
          "LanguageHaveWorkedWith",
          "MiscTechHaveWorkedWith",
          "ToolsTechHaveWorkedWith",
          "EmbeddedHaveWorkedWith",
          "OpSysPersonal use",
          "OpSysProfessional use",
          "ToolsTechHaveWorkedWith",
          "PlatformHaveWorkedWith",
          "DatabaseHaveWorkedWith",
          "OfficeStackAsyncHaveWorkedWith",
          "OfficeStackSyncHaveWorkedWith",
          "OfficeStackSyncHaveWorkedWith",
          "ToolsTechHaveWorkedWith",
          "EmbeddedHaveWorkedWith",
          "AISearchDevHaveWorkedWith",
          "AISearchDevHaveWorkedWith",
          "LanguageHaveWorkedWith",
          "EmbeddedHaveWorkedWith",
          "DatabaseHaveWorkedWith",
          "PlatformHaveWorkedWith",
          "OfficeStackAsyncHaveWorkedWith",
          "OfficeStackAsyncHaveWorkedWith",
          "DatabaseHaveWorkedWith",
          "OfficeStackSyncHaveWorkedWith",
          "OfficeStackAsyncHaveWorkedWith",
          "OfficeStackAsyncHaveWorkedWith",
          "DatabaseHaveWorkedWith",
          "DatabaseHaveWorkedWith",
          "NEWCollabToolsHaveWorkedWith",
          "AISearchDevHaveWorkedWith",
          "DatabaseHaveWorkedWith",
          "NEWCollabToolsHaveWorkedWith",
          "WebframeHaveWorkedWith",
          "NEWCollabToolsHaveWorkedWith",
          "PlatformHaveWorkedWith",
          "WebframeHaveWorkedWith",
          "LanguageHaveWorkedWith",
          "EmbeddedHaveWorkedWith",
          "ToolsTechHaveWorkedWith",
          "ToolsTechHaveWorkedWith",
          "WebframeHaveWorkedWith",
          "NEWCollabToolsHaveWorkedWith",
          "OfficeStackAsyncHaveWorkedWith",
          "ToolsTechHaveWorkedWith",
          "MiscTechHaveWorkedWith",
          "WebframeHaveWorkedWith",
          "LanguageHaveWorkedWith",
          "PlatformHaveWorkedWith",
          "LanguageHaveWorkedWith",
          "OfficeStackAsyncHaveWorkedWith",
          "AISearchDevHaveWorkedWith",
          "MiscTechHaveWorkedWith",
          "MiscTechHaveWorkedWith",
          "PlatformHaveWorkedWith",
          "PlatformHaveWorkedWith",
          "MiscTechHaveWorkedWith",
          "DatabaseHaveWorkedWith",
          "PlatformHaveWorkedWith",
          "OpSysPersonal use",
          "OpSysProfessional use",
          "OpSysPersonal use",
          "OpSysProfessional use",
          "LanguageHaveWorkedWith",
          "ToolsTechHaveWorkedWith",
          "MiscTechHaveWorkedWith",
          "LanguageHaveWorkedWith",
          "AISearchDevHaveWorkedWith",
          "AISearchDevHaveWorkedWith",
          "WebframeHaveWorkedWith",
          "NEWCollabToolsHaveWorkedWith",
          "ToolsTechHaveWorkedWith",
          "EmbeddedHaveWorkedWith",
          "WebframeHaveWorkedWith",
          "ToolsTechHaveWorkedWith",
          "DatabaseHaveWorkedWith",
          "LanguageHaveWorkedWith",
          "DatabaseHaveWorkedWith",
          "LanguageHaveWorkedWith",
          "ToolsTechHaveWorkedWith",
          "ToolsTechHaveWorkedWith",
          "NEWCollabToolsHaveWorkedWith",
          "LanguageHaveWorkedWith",
          "PlatformHaveWorkedWith",
          "EmbeddedHaveWorkedWith",
          "MiscTechHaveWorkedWith",
          "NEWCollabToolsHaveWorkedWith",
          "MiscTechHaveWorkedWith",
          "AISearchDevHaveWorkedWith",
          "LanguageHaveWorkedWith",
          "NEWCollabToolsHaveWorkedWith",
          "MiscTechHaveWorkedWith",
          "NEWCollabToolsHaveWorkedWith",
          "EmbeddedHaveWorkedWith",
          "DatabaseHaveWorkedWith",
          "WebframeHaveWorkedWith",
          "MiscTechHaveWorkedWith",
          "OpSysPersonal use",
          "OpSysProfessional use",
          "DatabaseHaveWorkedWith",
          "OfficeStackAsyncHaveWorkedWith",
          "WebframeHaveWorkedWith",
          "PlatformHaveWorkedWith",
          "AISearchDevHaveWorkedWith",
          "NEWCollabToolsHaveWorkedWith",
          "OfficeStackSyncHaveWorkedWith",
          "OfficeStackSyncHaveWorkedWith",
          "MiscTechHaveWorkedWith",
          "LanguageHaveWorkedWith",
          "WebframeHaveWorkedWith",
          "NEWCollabToolsHaveWorkedWith",
          "MiscTechHaveWorkedWith",
          "LanguageHaveWorkedWith",
          "EmbeddedHaveWorkedWith",
          "LanguageHaveWorkedWith",
          "DatabaseHaveWorkedWith",
          "LanguageHaveWorkedWith",
          "PlatformHaveWorkedWith",
          "MiscTechHaveWorkedWith",
          "OfficeStackAsyncHaveWorkedWith",
          "OfficeStackSyncHaveWorkedWith",
          "OfficeStackSyncHaveWorkedWith",
          "OfficeStackSyncHaveWorkedWith",
          "OfficeStackAsyncHaveWorkedWith",
          "DatabaseHaveWorkedWith",
          "AISearchDevHaveWorkedWith",
          "OpSysPersonal use",
          "OpSysProfessional use",
          "WebframeHaveWorkedWith",
          "LanguageHaveWorkedWith",
          "DatabaseHaveWorkedWith",
          "NEWCollabToolsHaveWorkedWith",
          "WebframeHaveWorkedWith",
          "MiscTechHaveWorkedWith",
          "NEWCollabToolsHaveWorkedWith",
          "OfficeStackAsyncHaveWorkedWith",
          "WebframeHaveWorkedWith",
          "NEWCollabToolsHaveWorkedWith",
          "DatabaseHaveWorkedWith",
          "PlatformHaveWorkedWith",
          "WebframeHaveWorkedWith",
          "LanguageHaveWorkedWith",
          "MiscTechHaveWorkedWith",
          "WebframeHaveWorkedWith",
          "OfficeStackSyncHaveWorkedWith",
          "AISearchDevHaveWorkedWith",
          "MiscTechHaveWorkedWith",
          "OfficeStackSyncHaveWorkedWith",
          "MiscTechHaveWorkedWith",
          "ToolsTechHaveWorkedWith",
          "DatabaseHaveWorkedWith",
          "MiscTechHaveWorkedWith",
          "MiscTechHaveWorkedWith",
          "OfficeStackAsyncHaveWorkedWith",
          "LanguageHaveWorkedWith",
          "OpSysPersonal use",
          "OpSysProfessional use",
          "OfficeStackSyncHaveWorkedWith",
          "ToolsTechHaveWorkedWith",
          "ToolsTechHaveWorkedWith",
          "LanguageHaveWorkedWith",
          "PlatformHaveWorkedWith",
          "NEWCollabToolsHaveWorkedWith",
          "PlatformHaveWorkedWith",
          "NEWCollabToolsHaveWorkedWith",
          "LanguageHaveWorkedWith",
          "NEWCollabToolsHaveWorkedWith",
          "NEWCollabToolsHaveWorkedWith",
          "AISearchDevHaveWorkedWith",
          "ToolsTechHaveWorkedWith",
          "ToolsTechHaveWorkedWith",
          "WebframeHaveWorkedWith",
          "PlatformHaveWorkedWith",
          "NEWCollabToolsHaveWorkedWith",
          "ToolsTechHaveWorkedWith",
          "OfficeStackSyncHaveWorkedWith",
          "AISearchDevHaveWorkedWith",
          "OfficeStackSyncHaveWorkedWith",
          "OfficeStackAsyncHaveWorkedWith",
          "OpSysPersonal use",
          "OpSysProfessional use",
          "OpSysPersonal use",
          "OpSysProfessional use",
          "OfficeStackSyncHaveWorkedWith",
          "AISearchDevHaveWorkedWith",
          "WebframeHaveWorkedWith",
          "MiscTechHaveWorkedWith",
          "NEWCollabToolsHaveWorkedWith",
          "ToolsTechHaveWorkedWith",
          "WebframeHaveWorkedWith",
          "AISearchDevHaveWorkedWith",
          "OfficeStackAsyncHaveWorkedWith",
          "EmbeddedHaveWorkedWith",
          "LanguageHaveWorkedWith",
          "LanguageHaveWorkedWith",
          "OfficeStackSyncHaveWorkedWith",
          "OfficeStackSyncHaveWorkedWith",
          "EmbeddedHaveWorkedWith",
          "EmbeddedHaveWorkedWith",
          "EmbeddedHaveWorkedWith",
          "OpSysPersonal use",
          "OpSysProfessional use",
          "OpSysPersonal use",
          "OpSysProfessional use",
          "WebframeHaveWorkedWith",
          "MiscTechHaveWorkedWith",
          "PlatformHaveWorkedWith",
          "ToolsTechHaveWorkedWith",
          "ToolsTechHaveWorkedWith",
          "",
          "",
          "",
          "",
          "",
          "",
          "",
          "",
          "",
          "",
          "",
          "",
          ""
         ],
         "type": "treemap",
         "values": [
          10827,
          7054,
          1339,
          178,
          262,
          5306,
          5895,
          7745,
          436,
          1061,
          474,
          1135,
          20790,
          104,
          9790,
          4610,
          8837,
          7782,
          3053,
          3998,
          1448,
          4065,
          1903,
          437,
          4419,
          2375,
          7678,
          2204,
          119,
          2908,
          1368,
          7748,
          460,
          531,
          362,
          694,
          18902,
          2309,
          6830,
          2245,
          280,
          1936,
          11028,
          15143,
          12601,
          559,
          2534,
          7347,
          2477,
          84,
          761,
          4087,
          1168,
          458,
          35754,
          366,
          4429,
          921,
          619,
          3122,
          3568,
          828,
          2056,
          677,
          2636,
          6504,
          337,
          449,
          1150,
          742,
          2648,
          568,
          275,
          4549,
          15040,
          61,
          960,
          1591,
          481,
          320,
          220,
          574,
          539,
          603,
          3317,
          2811,
          850,
          920,
          159,
          5352,
          5006,
          988,
          881,
          5036,
          798,
          20199,
          5415,
          27726,
          1914,
          838,
          649,
          3862,
          5083,
          6171,
          2767,
          1158,
          280,
          2247,
          477,
          139,
          8051,
          470,
          4500,
          1001,
          2604,
          1829,
          6003,
          2805,
          517,
          5775,
          923,
          4037,
          1116,
          573,
          1276,
          7515,
          1078,
          708,
          548,
          18188,
          8349,
          7587,
          2194,
          1822,
          5766,
          10806,
          10409,
          19871,
          1559,
          7898,
          1856,
          1871,
          29383,
          978,
          114,
          80,
          1083,
          924,
          3531,
          2149,
          11463,
          1500,
          1902,
          448,
          835,
          2559,
          1399,
          1239,
          14707,
          1066,
          455,
          16825,
          34659,
          24496,
          1501,
          616,
          6928,
          977,
          1835,
          5296,
          541,
          9949,
          4396,
          3598,
          145,
          1354,
          1312,
          787,
          3412,
          1558,
          2165,
          430,
          5632,
          2295,
          17537,
          17660,
          10544,
          1286,
          8344,
          13699,
          1762,
          2066,
          7976,
          752,
          1391,
          71,
          833,
          187,
          1946,
          12030,
          471,
          1253,
          12381,
          28168,
          6543,
          1140,
          12084,
          19445,
          5006,
          73,
          903,
          6806,
          2658,
          1570,
          2994,
          8120,
          177,
          1990,
          2041,
          1367,
          18445,
          12926,
          8601,
          8244,
          9049,
          1638,
          414,
          1308,
          1165,
          6131,
          560,
          698,
          2861,
          1026,
          659,
          3665,
          4859,
          1233,
          1395,
          1102,
          4533,
          4367,
          10070,
          3453,
          8822,
          1314,
          2311,
          1665,
          873,
          3260,
          16413,
          1255,
          355,
          2526,
          23931,
          7701,
          291,
          424,
          470,
          579,
          8179,
          28117,
          799,
          631,
          3112,
          1435,
          552,
          403,
          2356,
          1503,
          4762,
          559,
          9960,
          137,
          18002,
          3605,
          1222,
          2671,
          9906,
          1393,
          695,
          1201,
          178,
          3167,
          277,
          833,
          704,
          2909,
          2155,
          623,
          1275,
          6963,
          270,
          28506,
          16088,
          1437,
          363,
          4531,
          404,
          6068,
          6478,
          23518,
          425,
          1266,
          367,
          178,
          205,
          544,
          579,
          700,
          192,
          5811,
          4810,
          766,
          1188,
          754,
          5934,
          1914,
          1627,
          2961,
          2604,
          1849,
          1442,
          179,
          2205,
          1051,
          10943,
          4290,
          5472,
          105,
          718,
          4496,
          8989,
          21696,
          15110,
          15294,
          62,
          2945,
          1530,
          1949,
          2797,
          2600,
          5100,
          11739,
          2246,
          15915,
          40078,
          5949,
          7775,
          10261,
          7044,
          738,
          4169,
          9507,
          16479,
          438,
          113,
          3516,
          32269,
          26052,
          9426,
          9298,
          165,
          2417,
          5256,
          1246,
          5070,
          9740,
          424,
          583,
          1126,
          215,
          154,
          582,
          21144,
          711,
          116,
          375,
          281,
          6269,
          4014,
          2863,
          1449,
          9676,
          493,
          1312,
          25422,
          4589,
          98079,
          143249,
          50172,
          296813,
          107862,
          184566,
          121353,
          170885,
          115285,
          97794,
          93767,
          219910,
          148230
         ]
        }
       ],
       "layout": {
        "coloraxis": {
         "colorbar": {
          "title": {
           "text": "Count"
          }
         },
         "colorscale": [
          [
           0,
           "rgb(253, 253, 204)"
          ],
          [
           0.09090909090909091,
           "rgb(206, 236, 179)"
          ],
          [
           0.18181818181818182,
           "rgb(156, 219, 165)"
          ],
          [
           0.2727272727272727,
           "rgb(111, 201, 163)"
          ],
          [
           0.36363636363636365,
           "rgb(86, 177, 163)"
          ],
          [
           0.45454545454545453,
           "rgb(76, 153, 160)"
          ],
          [
           0.5454545454545454,
           "rgb(68, 130, 155)"
          ],
          [
           0.6363636363636364,
           "rgb(62, 108, 150)"
          ],
          [
           0.7272727272727273,
           "rgb(62, 82, 143)"
          ],
          [
           0.8181818181818182,
           "rgb(64, 60, 115)"
          ],
          [
           0.9090909090909091,
           "rgb(54, 43, 77)"
          ],
          [
           1,
           "rgb(39, 26, 44)"
          ]
         ]
        },
        "height": 700,
        "legend": {
         "tracegroupgap": 0
        },
        "template": {
         "data": {
          "bar": [
           {
            "error_x": {
             "color": "#2a3f5f"
            },
            "error_y": {
             "color": "#2a3f5f"
            },
            "marker": {
             "line": {
              "color": "#E5ECF6",
              "width": 0.5
             },
             "pattern": {
              "fillmode": "overlay",
              "size": 10,
              "solidity": 0.2
             }
            },
            "type": "bar"
           }
          ],
          "barpolar": [
           {
            "marker": {
             "line": {
              "color": "#E5ECF6",
              "width": 0.5
             },
             "pattern": {
              "fillmode": "overlay",
              "size": 10,
              "solidity": 0.2
             }
            },
            "type": "barpolar"
           }
          ],
          "carpet": [
           {
            "aaxis": {
             "endlinecolor": "#2a3f5f",
             "gridcolor": "white",
             "linecolor": "white",
             "minorgridcolor": "white",
             "startlinecolor": "#2a3f5f"
            },
            "baxis": {
             "endlinecolor": "#2a3f5f",
             "gridcolor": "white",
             "linecolor": "white",
             "minorgridcolor": "white",
             "startlinecolor": "#2a3f5f"
            },
            "type": "carpet"
           }
          ],
          "choropleth": [
           {
            "colorbar": {
             "outlinewidth": 0,
             "ticks": ""
            },
            "type": "choropleth"
           }
          ],
          "contour": [
           {
            "colorbar": {
             "outlinewidth": 0,
             "ticks": ""
            },
            "colorscale": [
             [
              0,
              "#0d0887"
             ],
             [
              0.1111111111111111,
              "#46039f"
             ],
             [
              0.2222222222222222,
              "#7201a8"
             ],
             [
              0.3333333333333333,
              "#9c179e"
             ],
             [
              0.4444444444444444,
              "#bd3786"
             ],
             [
              0.5555555555555556,
              "#d8576b"
             ],
             [
              0.6666666666666666,
              "#ed7953"
             ],
             [
              0.7777777777777778,
              "#fb9f3a"
             ],
             [
              0.8888888888888888,
              "#fdca26"
             ],
             [
              1,
              "#f0f921"
             ]
            ],
            "type": "contour"
           }
          ],
          "contourcarpet": [
           {
            "colorbar": {
             "outlinewidth": 0,
             "ticks": ""
            },
            "type": "contourcarpet"
           }
          ],
          "heatmap": [
           {
            "colorbar": {
             "outlinewidth": 0,
             "ticks": ""
            },
            "colorscale": [
             [
              0,
              "#0d0887"
             ],
             [
              0.1111111111111111,
              "#46039f"
             ],
             [
              0.2222222222222222,
              "#7201a8"
             ],
             [
              0.3333333333333333,
              "#9c179e"
             ],
             [
              0.4444444444444444,
              "#bd3786"
             ],
             [
              0.5555555555555556,
              "#d8576b"
             ],
             [
              0.6666666666666666,
              "#ed7953"
             ],
             [
              0.7777777777777778,
              "#fb9f3a"
             ],
             [
              0.8888888888888888,
              "#fdca26"
             ],
             [
              1,
              "#f0f921"
             ]
            ],
            "type": "heatmap"
           }
          ],
          "heatmapgl": [
           {
            "colorbar": {
             "outlinewidth": 0,
             "ticks": ""
            },
            "colorscale": [
             [
              0,
              "#0d0887"
             ],
             [
              0.1111111111111111,
              "#46039f"
             ],
             [
              0.2222222222222222,
              "#7201a8"
             ],
             [
              0.3333333333333333,
              "#9c179e"
             ],
             [
              0.4444444444444444,
              "#bd3786"
             ],
             [
              0.5555555555555556,
              "#d8576b"
             ],
             [
              0.6666666666666666,
              "#ed7953"
             ],
             [
              0.7777777777777778,
              "#fb9f3a"
             ],
             [
              0.8888888888888888,
              "#fdca26"
             ],
             [
              1,
              "#f0f921"
             ]
            ],
            "type": "heatmapgl"
           }
          ],
          "histogram": [
           {
            "marker": {
             "pattern": {
              "fillmode": "overlay",
              "size": 10,
              "solidity": 0.2
             }
            },
            "type": "histogram"
           }
          ],
          "histogram2d": [
           {
            "colorbar": {
             "outlinewidth": 0,
             "ticks": ""
            },
            "colorscale": [
             [
              0,
              "#0d0887"
             ],
             [
              0.1111111111111111,
              "#46039f"
             ],
             [
              0.2222222222222222,
              "#7201a8"
             ],
             [
              0.3333333333333333,
              "#9c179e"
             ],
             [
              0.4444444444444444,
              "#bd3786"
             ],
             [
              0.5555555555555556,
              "#d8576b"
             ],
             [
              0.6666666666666666,
              "#ed7953"
             ],
             [
              0.7777777777777778,
              "#fb9f3a"
             ],
             [
              0.8888888888888888,
              "#fdca26"
             ],
             [
              1,
              "#f0f921"
             ]
            ],
            "type": "histogram2d"
           }
          ],
          "histogram2dcontour": [
           {
            "colorbar": {
             "outlinewidth": 0,
             "ticks": ""
            },
            "colorscale": [
             [
              0,
              "#0d0887"
             ],
             [
              0.1111111111111111,
              "#46039f"
             ],
             [
              0.2222222222222222,
              "#7201a8"
             ],
             [
              0.3333333333333333,
              "#9c179e"
             ],
             [
              0.4444444444444444,
              "#bd3786"
             ],
             [
              0.5555555555555556,
              "#d8576b"
             ],
             [
              0.6666666666666666,
              "#ed7953"
             ],
             [
              0.7777777777777778,
              "#fb9f3a"
             ],
             [
              0.8888888888888888,
              "#fdca26"
             ],
             [
              1,
              "#f0f921"
             ]
            ],
            "type": "histogram2dcontour"
           }
          ],
          "mesh3d": [
           {
            "colorbar": {
             "outlinewidth": 0,
             "ticks": ""
            },
            "type": "mesh3d"
           }
          ],
          "parcoords": [
           {
            "line": {
             "colorbar": {
              "outlinewidth": 0,
              "ticks": ""
             }
            },
            "type": "parcoords"
           }
          ],
          "pie": [
           {
            "automargin": true,
            "type": "pie"
           }
          ],
          "scatter": [
           {
            "fillpattern": {
             "fillmode": "overlay",
             "size": 10,
             "solidity": 0.2
            },
            "type": "scatter"
           }
          ],
          "scatter3d": [
           {
            "line": {
             "colorbar": {
              "outlinewidth": 0,
              "ticks": ""
             }
            },
            "marker": {
             "colorbar": {
              "outlinewidth": 0,
              "ticks": ""
             }
            },
            "type": "scatter3d"
           }
          ],
          "scattercarpet": [
           {
            "marker": {
             "colorbar": {
              "outlinewidth": 0,
              "ticks": ""
             }
            },
            "type": "scattercarpet"
           }
          ],
          "scattergeo": [
           {
            "marker": {
             "colorbar": {
              "outlinewidth": 0,
              "ticks": ""
             }
            },
            "type": "scattergeo"
           }
          ],
          "scattergl": [
           {
            "marker": {
             "colorbar": {
              "outlinewidth": 0,
              "ticks": ""
             }
            },
            "type": "scattergl"
           }
          ],
          "scattermapbox": [
           {
            "marker": {
             "colorbar": {
              "outlinewidth": 0,
              "ticks": ""
             }
            },
            "type": "scattermapbox"
           }
          ],
          "scatterpolar": [
           {
            "marker": {
             "colorbar": {
              "outlinewidth": 0,
              "ticks": ""
             }
            },
            "type": "scatterpolar"
           }
          ],
          "scatterpolargl": [
           {
            "marker": {
             "colorbar": {
              "outlinewidth": 0,
              "ticks": ""
             }
            },
            "type": "scatterpolargl"
           }
          ],
          "scatterternary": [
           {
            "marker": {
             "colorbar": {
              "outlinewidth": 0,
              "ticks": ""
             }
            },
            "type": "scatterternary"
           }
          ],
          "surface": [
           {
            "colorbar": {
             "outlinewidth": 0,
             "ticks": ""
            },
            "colorscale": [
             [
              0,
              "#0d0887"
             ],
             [
              0.1111111111111111,
              "#46039f"
             ],
             [
              0.2222222222222222,
              "#7201a8"
             ],
             [
              0.3333333333333333,
              "#9c179e"
             ],
             [
              0.4444444444444444,
              "#bd3786"
             ],
             [
              0.5555555555555556,
              "#d8576b"
             ],
             [
              0.6666666666666666,
              "#ed7953"
             ],
             [
              0.7777777777777778,
              "#fb9f3a"
             ],
             [
              0.8888888888888888,
              "#fdca26"
             ],
             [
              1,
              "#f0f921"
             ]
            ],
            "type": "surface"
           }
          ],
          "table": [
           {
            "cells": {
             "fill": {
              "color": "#EBF0F8"
             },
             "line": {
              "color": "white"
             }
            },
            "header": {
             "fill": {
              "color": "#C8D4E3"
             },
             "line": {
              "color": "white"
             }
            },
            "type": "table"
           }
          ]
         },
         "layout": {
          "annotationdefaults": {
           "arrowcolor": "#2a3f5f",
           "arrowhead": 0,
           "arrowwidth": 1
          },
          "autotypenumbers": "strict",
          "coloraxis": {
           "colorbar": {
            "outlinewidth": 0,
            "ticks": ""
           }
          },
          "colorscale": {
           "diverging": [
            [
             0,
             "#8e0152"
            ],
            [
             0.1,
             "#c51b7d"
            ],
            [
             0.2,
             "#de77ae"
            ],
            [
             0.3,
             "#f1b6da"
            ],
            [
             0.4,
             "#fde0ef"
            ],
            [
             0.5,
             "#f7f7f7"
            ],
            [
             0.6,
             "#e6f5d0"
            ],
            [
             0.7,
             "#b8e186"
            ],
            [
             0.8,
             "#7fbc41"
            ],
            [
             0.9,
             "#4d9221"
            ],
            [
             1,
             "#276419"
            ]
           ],
           "sequential": [
            [
             0,
             "#0d0887"
            ],
            [
             0.1111111111111111,
             "#46039f"
            ],
            [
             0.2222222222222222,
             "#7201a8"
            ],
            [
             0.3333333333333333,
             "#9c179e"
            ],
            [
             0.4444444444444444,
             "#bd3786"
            ],
            [
             0.5555555555555556,
             "#d8576b"
            ],
            [
             0.6666666666666666,
             "#ed7953"
            ],
            [
             0.7777777777777778,
             "#fb9f3a"
            ],
            [
             0.8888888888888888,
             "#fdca26"
            ],
            [
             1,
             "#f0f921"
            ]
           ],
           "sequentialminus": [
            [
             0,
             "#0d0887"
            ],
            [
             0.1111111111111111,
             "#46039f"
            ],
            [
             0.2222222222222222,
             "#7201a8"
            ],
            [
             0.3333333333333333,
             "#9c179e"
            ],
            [
             0.4444444444444444,
             "#bd3786"
            ],
            [
             0.5555555555555556,
             "#d8576b"
            ],
            [
             0.6666666666666666,
             "#ed7953"
            ],
            [
             0.7777777777777778,
             "#fb9f3a"
            ],
            [
             0.8888888888888888,
             "#fdca26"
            ],
            [
             1,
             "#f0f921"
            ]
           ]
          },
          "colorway": [
           "#636efa",
           "#EF553B",
           "#00cc96",
           "#ab63fa",
           "#FFA15A",
           "#19d3f3",
           "#FF6692",
           "#B6E880",
           "#FF97FF",
           "#FECB52"
          ],
          "font": {
           "color": "#2a3f5f"
          },
          "geo": {
           "bgcolor": "white",
           "lakecolor": "white",
           "landcolor": "#E5ECF6",
           "showlakes": true,
           "showland": true,
           "subunitcolor": "white"
          },
          "hoverlabel": {
           "align": "left"
          },
          "hovermode": "closest",
          "mapbox": {
           "style": "light"
          },
          "paper_bgcolor": "white",
          "plot_bgcolor": "#E5ECF6",
          "polar": {
           "angularaxis": {
            "gridcolor": "white",
            "linecolor": "white",
            "ticks": ""
           },
           "bgcolor": "#E5ECF6",
           "radialaxis": {
            "gridcolor": "white",
            "linecolor": "white",
            "ticks": ""
           }
          },
          "scene": {
           "xaxis": {
            "backgroundcolor": "#E5ECF6",
            "gridcolor": "white",
            "gridwidth": 2,
            "linecolor": "white",
            "showbackground": true,
            "ticks": "",
            "zerolinecolor": "white"
           },
           "yaxis": {
            "backgroundcolor": "#E5ECF6",
            "gridcolor": "white",
            "gridwidth": 2,
            "linecolor": "white",
            "showbackground": true,
            "ticks": "",
            "zerolinecolor": "white"
           },
           "zaxis": {
            "backgroundcolor": "#E5ECF6",
            "gridcolor": "white",
            "gridwidth": 2,
            "linecolor": "white",
            "showbackground": true,
            "ticks": "",
            "zerolinecolor": "white"
           }
          },
          "shapedefaults": {
           "line": {
            "color": "#2a3f5f"
           }
          },
          "ternary": {
           "aaxis": {
            "gridcolor": "white",
            "linecolor": "white",
            "ticks": ""
           },
           "baxis": {
            "gridcolor": "white",
            "linecolor": "white",
            "ticks": ""
           },
           "bgcolor": "#E5ECF6",
           "caxis": {
            "gridcolor": "white",
            "linecolor": "white",
            "ticks": ""
           }
          },
          "title": {
           "x": 0.05
          },
          "xaxis": {
           "automargin": true,
           "gridcolor": "white",
           "linecolor": "white",
           "ticks": "",
           "title": {
            "standoff": 15
           },
           "zerolinecolor": "white",
           "zerolinewidth": 2
          },
          "yaxis": {
           "automargin": true,
           "gridcolor": "white",
           "linecolor": "white",
           "ticks": "",
           "title": {
            "standoff": 15
           },
           "zerolinecolor": "white",
           "zerolinewidth": 2
          }
         }
        },
        "title": {
         "text": "Technology Treemap"
        },
        "width": 1100
       }
      }
     },
     "metadata": {},
     "output_type": "display_data"
    }
   ],
   "source": [
    "fig = px.treemap(skills_freq, path  = ['Group', 'Skill'], values='Count', color_continuous_scale='deep',\n",
    "                color='Count' ,title='Technology Treemap')\n",
    "fig.update_layout(width = 1100, height = 700)\n",
    "fig.show()"
   ]
  },
  {
   "cell_type": "code",
   "execution_count": null,
   "metadata": {},
   "outputs": [],
   "source": []
  }
 ],
 "metadata": {
  "kernelspec": {
   "display_name": "Python 3",
   "language": "python",
   "name": "python3"
  },
  "language_info": {
   "codemirror_mode": {
    "name": "ipython",
    "version": 3
   },
   "file_extension": ".py",
   "mimetype": "text/x-python",
   "name": "python",
   "nbconvert_exporter": "python",
   "pygments_lexer": "ipython3",
   "version": "3.10.12"
  }
 },
 "nbformat": 4,
 "nbformat_minor": 2
}
