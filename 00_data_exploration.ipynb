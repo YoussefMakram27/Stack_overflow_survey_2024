{
 "cells": [
  {
   "cell_type": "markdown",
   "id": "de83a015-1e32-4d55-ac05-57f64044c85a",
   "metadata": {},
   "source": [
    "# Problem Statement"
   ]
  },
  {
   "cell_type": "markdown",
   "id": "48ea1c0e-ca0b-46f3-a211-f3ac48dd0689",
   "metadata": {},
   "source": [
    "Our (fictional) client is an IT educational institute. They have reached out to us with the following:\n",
    "\n",
    "“IT jobs and technologies keep evolving quickly. This makes our field to be one of the most interesting out there. But on the other hand, such fast development confuses our students. They do not know which skills they need to learn for which job.\n",
    "\n",
    "“Do I need to learn C++ to be a Data Scientist?” “Do DevOps and System admins use the same technologies?” “I really like JavaScript; can I use it in Data Analytics?” Those are some of the questions that our students ask.\n",
    "\n",
    "Could you please develop a data-driven solution for our students to answer such questions? They mostly want to understand the relationships between the jobs and the technologies.\n",
    "\n"
   ]
  },
  {
   "cell_type": "code",
   "execution_count": 2,
   "id": "bab6399f-f9ac-451a-8c34-32f4c6637a4c",
   "metadata": {},
   "outputs": [],
   "source": [
    "Data_Path = r'/home/youssef/Documents/Data Science/stack over flow/data/raw/survey_results_public.csv'\n",
    "Schema_Path = r'/home/youssef/Documents/Data Science/stack over flow/data/raw/survey_results_schema.csv'"
   ]
  },
  {
   "cell_type": "code",
   "execution_count": 3,
   "id": "962c3b82-ee12-4435-8750-61f2de8f0db7",
   "metadata": {},
   "outputs": [],
   "source": [
    "import pandas as pd\n",
    "import numpy as np\n",
    "pd.set_option('display.max_columns', None)\n",
    "pd.set_option('display.max_rows', None)\n",
    "pd.set_option('display.max_colwidth', None)\n",
    "pd.set_option('display.expand_frame_repr', False)  "
   ]
  },
  {
   "cell_type": "markdown",
   "id": "f965c706-07ea-4732-80c0-3c401896c34f",
   "metadata": {},
   "source": [
    "# Exploration"
   ]
  },
  {
   "cell_type": "code",
   "execution_count": 4,
   "id": "ba75647d-b675-43e8-a958-d60852adb39a",
   "metadata": {},
   "outputs": [],
   "source": [
    "data_df = pd.concat(pd.read_csv(Data_Path, chunksize = 10000))"
   ]
  },
  {
   "cell_type": "code",
   "execution_count": 5,
   "id": "7fd86d2b-ae01-4746-9836-59025b71549c",
   "metadata": {},
   "outputs": [
    {
     "data": {
      "text/plain": [
       "(65437, 114)"
      ]
     },
     "execution_count": 5,
     "metadata": {},
     "output_type": "execute_result"
    }
   ],
   "source": [
    "data_df.shape"
   ]
  },
  {
   "cell_type": "code",
   "execution_count": null,
   "id": "2f4c9649-518a-43b4-a477-32dc64daa43f",
   "metadata": {},
   "outputs": [],
   "source": [
    "data_df.head(20)"
   ]
  },
  {
   "cell_type": "code",
   "execution_count": 7,
   "id": "6570768a-c21b-412c-9976-30b0653a748f",
   "metadata": {},
   "outputs": [],
   "source": [
    "schema_df = pd.read_csv(Schema_Path)"
   ]
  },
  {
   "cell_type": "code",
   "execution_count": null,
   "id": "462d57ff-6a5f-42e7-b45f-49cc5d67ef20",
   "metadata": {},
   "outputs": [],
   "source": [
    "schema_df.head()"
   ]
  },
  {
   "cell_type": "code",
   "execution_count": null,
   "id": "0f7459d0-c56b-44c9-871b-c01efe58560f",
   "metadata": {},
   "outputs": [],
   "source": [
    "data_df['MainBranch'].unique().tolist()"
   ]
  },
  {
   "cell_type": "code",
   "execution_count": null,
   "id": "1dc07127-e18c-4fde-a135-672880c7bf5b",
   "metadata": {},
   "outputs": [],
   "source": [
    "data_df['Employment'].unique().tolist()"
   ]
  },
  {
   "cell_type": "code",
   "execution_count": null,
   "id": "a787d1b7-5fce-412c-b611-0c63b94c93a8",
   "metadata": {},
   "outputs": [],
   "source": [
    "data_df.info()"
   ]
  },
  {
   "cell_type": "code",
   "execution_count": null,
   "id": "980cdebb-6ada-41ed-99b1-1c48ba62b3aa",
   "metadata": {},
   "outputs": [],
   "source": [
    "data_df.describe()"
   ]
  },
  {
   "cell_type": "code",
   "execution_count": null,
   "id": "cc828d81-06e5-4546-ad90-c5e73b13c638",
   "metadata": {},
   "outputs": [],
   "source": [
    "data_df.sample(1)"
   ]
  },
  {
   "cell_type": "code",
   "execution_count": null,
   "id": "33a2520d-7002-4675-9682-98613ac61655",
   "metadata": {},
   "outputs": [],
   "source": [
    "data_df.isnull().sum()"
   ]
  },
  {
   "cell_type": "code",
   "execution_count": null,
   "id": "87fb3d39-4ec5-49bd-a619-300eb2a116d1",
   "metadata": {},
   "outputs": [],
   "source": [
    "data_df.dtypes"
   ]
  },
  {
   "cell_type": "code",
   "execution_count": null,
   "id": "d39cb20e-51f4-4fe6-bc55-509d5a176b00",
   "metadata": {},
   "outputs": [],
   "source": [
    "cols = ['Age', 'YearsCode', 'YearsCodePro']\n",
    "for col in cols:\n",
    "    print(col)\n",
    "    print(data_df[col].unique().tolist())\n",
    "    print('--------------')"
   ]
  },
  {
   "cell_type": "code",
   "execution_count": null,
   "id": "2a231d7c-18dd-4275-8b73-3c8978ccab73",
   "metadata": {},
   "outputs": [],
   "source": [
    "data_df['TechDoc'].unique"
   ]
  },
  {
   "cell_type": "code",
   "execution_count": null,
   "id": "6515796e-e825-4eb3-ace4-ee839999dbee",
   "metadata": {},
   "outputs": [],
   "source": [
    "data_df.columns"
   ]
  }
 ],
 "metadata": {
  "kernelspec": {
   "display_name": "Python 3",
   "language": "python",
   "name": "python3"
  },
  "language_info": {
   "codemirror_mode": {
    "name": "ipython",
    "version": 3
   },
   "file_extension": ".py",
   "mimetype": "text/x-python",
   "name": "python",
   "nbconvert_exporter": "python",
   "pygments_lexer": "ipython3",
   "version": "3.10.12"
  }
 },
 "nbformat": 4,
 "nbformat_minor": 5
}
